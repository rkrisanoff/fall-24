{
 "cells": [
  {
   "cell_type": "code",
   "id": "initial_id",
   "metadata": {
    "collapsed": true,
    "ExecuteTime": {
    }
   },
   "source": [
    "import numpy as np\n",
    "!pip install pandas\n",
    "!pip install scikit-learn\n",
    "!pip install numpy\n",
    "!pip install matplotlib\n",
    "!pip install seaborn"
   ],
   "outputs": [
    {
     "name": "stdout",
     "output_type": "stream",
     "text": [
  },
  {
   "metadata": {
    "ExecuteTime": {
    }
   },
   "cell_type": "code",
   "source": [
    "import matplotlib.pyplot as plt\n",
    "import pandas as pd\n",
    "import numpy as np"
   ],
   "id": "ad38b06b9fe59ddf",
   "outputs": [],
  },
  {
   "metadata": {
    "ExecuteTime": {
    }
   },
   "cell_type": "code",
   "source": [
    "df"
   ],
   "id": "c7bef681ead261e0",
   "outputs": [
    {
     "data": {
      "text/plain": [
       "                    species  length  weight  w_l_ratio\n",
       "0        Anabas testudineus   10.66    3.45       0.32\n",
       "1        Anabas testudineus    6.91    3.27       0.47\n",
       "2        Anabas testudineus    8.38    3.46       0.41\n",
       "3        Anabas testudineus    7.57    3.36       0.44\n",
       "4        Anabas testudineus   10.83    3.38       0.31\n",
       "...                     ...     ...     ...        ...\n",
       "4075  Sillaginopsis panijus   30.56    6.12       0.20\n",
       "4076  Sillaginopsis panijus   29.66    6.11       0.21\n",
       "4077  Sillaginopsis panijus   32.81    6.25       0.19\n",
       "4078  Sillaginopsis panijus   29.78    6.11       0.21\n",
       "4079  Sillaginopsis panijus   31.62    6.14       0.19\n",
       "\n",
       "[4080 rows x 4 columns]"
      ],
      "text/html": [
       "<div>\n",
       "<style scoped>\n",
       "    .dataframe tbody tr th:only-of-type {\n",
       "        vertical-align: middle;\n",
       "    }\n",
       "\n",
       "    .dataframe tbody tr th {\n",
       "        vertical-align: top;\n",
       "    }\n",
       "\n",
       "    .dataframe thead th {\n",
       "        text-align: right;\n",
       "    }\n",
       "</style>\n",
       "<table border=\"1\" class=\"dataframe\">\n",
       "  <thead>\n",
       "    <tr style=\"text-align: right;\">\n",
       "      <th></th>\n",
       "      <th>species</th>\n",
       "      <th>length</th>\n",
       "      <th>weight</th>\n",
       "      <th>w_l_ratio</th>\n",
       "    </tr>\n",
       "  </thead>\n",
       "  <tbody>\n",
       "    <tr>\n",
       "      <th>0</th>\n",
       "      <td>Anabas testudineus</td>\n",
       "      <td>10.66</td>\n",
       "      <td>3.45</td>\n",
       "      <td>0.32</td>\n",
       "    </tr>\n",
       "    <tr>\n",
       "      <th>1</th>\n",
       "      <td>Anabas testudineus</td>\n",
       "      <td>6.91</td>\n",
       "      <td>3.27</td>\n",
       "      <td>0.47</td>\n",
       "    </tr>\n",
       "    <tr>\n",
       "      <th>2</th>\n",
       "      <td>Anabas testudineus</td>\n",
       "      <td>8.38</td>\n",
       "      <td>3.46</td>\n",
       "      <td>0.41</td>\n",
       "    </tr>\n",
       "    <tr>\n",
       "      <th>3</th>\n",
       "      <td>Anabas testudineus</td>\n",
       "      <td>7.57</td>\n",
       "      <td>3.36</td>\n",
       "      <td>0.44</td>\n",
       "    </tr>\n",
       "    <tr>\n",
       "      <th>4</th>\n",
       "      <td>Anabas testudineus</td>\n",
       "      <td>10.83</td>\n",
       "      <td>3.38</td>\n",
       "      <td>0.31</td>\n",
       "    </tr>\n",
       "    <tr>\n",
       "      <th>...</th>\n",
       "      <td>...</td>\n",
       "      <td>...</td>\n",
       "      <td>...</td>\n",
       "      <td>...</td>\n",
       "    </tr>\n",
       "    <tr>\n",
       "      <th>4075</th>\n",
       "      <td>Sillaginopsis panijus</td>\n",
       "      <td>30.56</td>\n",
       "      <td>6.12</td>\n",
       "      <td>0.20</td>\n",
       "    </tr>\n",
       "    <tr>\n",
       "      <th>4076</th>\n",
       "      <td>Sillaginopsis panijus</td>\n",
       "      <td>29.66</td>\n",
       "      <td>6.11</td>\n",
       "      <td>0.21</td>\n",
       "    </tr>\n",
       "    <tr>\n",
       "      <th>4077</th>\n",
       "      <td>Sillaginopsis panijus</td>\n",
       "      <td>32.81</td>\n",
       "      <td>6.25</td>\n",
       "      <td>0.19</td>\n",
       "    </tr>\n",
       "    <tr>\n",
       "      <th>4078</th>\n",
       "      <td>Sillaginopsis panijus</td>\n",
       "      <td>29.78</td>\n",
       "      <td>6.11</td>\n",
       "      <td>0.21</td>\n",
       "    </tr>\n",
       "    <tr>\n",
       "      <th>4079</th>\n",
       "      <td>Sillaginopsis panijus</td>\n",
       "      <td>31.62</td>\n",
       "      <td>6.14</td>\n",
       "      <td>0.19</td>\n",
       "    </tr>\n",
       "  </tbody>\n",
       "</table>\n",
       "<p>4080 rows × 4 columns</p>\n",
       "</div>"
      ]
     },
     "metadata": {},
     "output_type": "execute_result"
    }
   ],
  },
  {
   "metadata": {
    "ExecuteTime": {
    }
   },
   "cell_type": "code",
   "source": [
    "Y, Y_labels = pd.factorize(df['species'])\n",
    "Y_labels"
   ],
   "id": "c85aa60f9c3b77be",
   "outputs": [
    {
     "data": {
      "text/plain": [
       "Index(['Anabas testudineus', 'Coilia dussumieri', 'Otolithoides biauritus',\n",
       "       'Otolithoides pama', 'Pethia conchonius', 'Polynemus paradiseus',\n",
       "       'Puntius lateristriga', 'Setipinna taty', 'Sillaginopsis panijus'],\n",
       "      dtype='object')"
      ]
     },
     "metadata": {},
     "output_type": "execute_result"
    }
   ],
  },
  {
   "metadata": {
    "ExecuteTime": {
    }
   },
   "cell_type": "code",
   "source": [
    "from sklearn import preprocessing\n",
    "\n",
    "scaler = preprocessing.StandardScaler()\n",
    "X = scaler.fit_transform(df.iloc[:, 1:])\n",
    "X"
   ],
   "id": "72293ad529faa377",
   "outputs": [
    {
     "data": {
      "text/plain": [
       "array([[-0.9409222 , -0.27866241,  0.54635083],\n",
       "       [-1.46806569, -0.45169987,  1.76555488],\n",
       "       [-1.26142544, -0.26904922,  1.27787326],\n",
       "       ...,\n",
       "       [ 2.17273871,  2.41303142, -0.51029267],\n",
       "       [ 1.74680677,  2.27844673, -0.34773214],\n",
       "       [ 2.00545851,  2.3072863 , -0.51029267]])"
      ]
     },
     "metadata": {},
     "output_type": "execute_result"
    }
   ],
    "            x_test: np.ndarray,\n",
    "            y_test: np.ndarray,\n",
    "            class_count: int,\n",
    "            k: int\n",
    "    ) -> np.ndarray:\n",
    "            class_powers = np.bincount(nearest_classes, weights=nuclear_distances)\n",
    "            nearest_class = np.argmax(class_powers)\n",
    "            confusion_matrix[y_predictable, nearest_class] += 1\n",
    "        return confusion_matrix\n",
    "\n",
    "        distances = np.linalg.norm(x_predictable[np.newaxis, :] - x_train, axis=1)\n",
    "        nearest_indices = np.argsort(distances)[:k + 1]\n",
    "        nearest_distances = distances[nearest_indices]\n",
    "        nuclear_distances = np.exp(- (1 / 2) * nearest_distances[:k] / nearest_distances[k])\n",
    "        nearest_classes = y_train[nearest_indices[:k]]\n",
    "        class_powers = np.bincount(nearest_classes, weights=nuclear_distances)\n",
    "        return np.argmax(class_powers)\n",
    "\n",
    "\n",
  },
  {
   "metadata": {},
   "cell_type": "markdown",
   "source": "leave-one-out",
   "id": "6c6ae5ebe2ad2a53"
  },
  {
   "metadata": {
    "ExecuteTime": {
    }
   },
   "cell_type": "code",
   "source": [
    "# LOO\n",
    "})\n",
    "evaluates"
   ],
   "id": "56f21a368c1f699e",
   "outputs": [
    {
     "data": {
      "text/plain": [
       "       biased  unbiased\n",
       "0         NaN       NaN\n",
       "1         NaN       NaN\n",
       "2         NaN       NaN\n",
       "..        ...       ...\n",
       "195  0.068137  0.066667\n",
       "196  0.067892  0.066912\n",
       "197  0.067892  0.066667\n",
       "198  0.067892  0.067402\n",
       "199  0.068137  0.066912\n",
       "\n",
       "[200 rows x 2 columns]"
      ],
      "text/html": [
       "<div>\n",
       "<style scoped>\n",
       "    .dataframe tbody tr th:only-of-type {\n",
       "        vertical-align: middle;\n",
       "    }\n",
       "\n",
       "    .dataframe tbody tr th {\n",
       "        vertical-align: top;\n",
       "    }\n",
       "\n",
       "    .dataframe thead th {\n",
       "        text-align: right;\n",
       "    }\n",
       "</style>\n",
       "<table border=\"1\" class=\"dataframe\">\n",
       "  <thead>\n",
       "    <tr style=\"text-align: right;\">\n",
       "      <th></th>\n",
       "      <th>biased</th>\n",
       "      <th>unbiased</th>\n",
       "    </tr>\n",
       "  </thead>\n",
       "  <tbody>\n",
       "    <tr>\n",
       "      <th>0</th>\n",
       "      <td>NaN</td>\n",
       "      <td>NaN</td>\n",
       "    </tr>\n",
       "    <tr>\n",
       "      <th>1</th>\n",
       "      <td>NaN</td>\n",
       "      <td>NaN</td>\n",
       "    </tr>\n",
       "    <tr>\n",
       "      <th>2</th>\n",
       "      <td>NaN</td>\n",
       "      <td>NaN</td>\n",
       "    </tr>\n",
       "    <tr>\n",
       "      <th>3</th>\n",
       "      <td>0.035539</td>\n",
       "    </tr>\n",
       "    <tr>\n",
       "      <th>4</th>\n",
       "      <td>0.024510</td>\n",
       "    </tr>\n",
       "    <tr>\n",
       "      <th>...</th>\n",
       "      <td>...</td>\n",
       "      <td>...</td>\n",
       "    </tr>\n",
       "    <tr>\n",
       "      <th>195</th>\n",
       "      <td>0.068137</td>\n",
       "      <td>0.066667</td>\n",
       "    </tr>\n",
       "    <tr>\n",
       "      <th>196</th>\n",
       "      <td>0.067892</td>\n",
       "      <td>0.066912</td>\n",
       "    </tr>\n",
       "    <tr>\n",
       "      <th>197</th>\n",
       "      <td>0.067892</td>\n",
       "      <td>0.066667</td>\n",
       "    </tr>\n",
       "    <tr>\n",
       "      <th>198</th>\n",
       "      <td>0.067892</td>\n",
       "      <td>0.067402</td>\n",
       "    </tr>\n",
       "    <tr>\n",
       "      <th>199</th>\n",
       "      <td>0.068137</td>\n",
       "      <td>0.066912</td>\n",
       "    </tr>\n",
       "  </tbody>\n",
       "</table>\n",
       "<p>200 rows × 2 columns</p>\n",
       "</div>"
      ]
     },
     "metadata": {},
     "output_type": "execute_result"
    }
   ],
  },
  {
   "metadata": {
    "ExecuteTime": {
    }
   },
   "cell_type": "code",
   "source": [
    "plt.figure(figsize=(12, 12))\n",
    "plt.xlabel('Количество соседей (K)', fontsize=14)\n",
    "plt.ylabel('Доля ошибок', fontsize=14)\n",
    "plt.legend()\n",
    "\n",
    "plt"
   ],
   "id": "3de0db2d2f62193e",
   "outputs": [
    {
     "data": {
      "text/plain": [
     "metadata": {},
     "output_type": "execute_result"
    },
    {
     "data": {
      "text/plain": [
       "<Figure size 1200x1200 with 1 Axes>"
      ],
     },
     "metadata": {},
     "output_type": "display_data"
    }
   ],
  },
  {
   "metadata": {
    "ExecuteTime": {
    }
   },
   "cell_type": "code",
   "source": [
    "n = len(X)\n",
    "start_k, finish_k = 3, 200\n",
    "empirical_risks = np.zeros(shape=(finish_k,))\n",
    "for k in range(start_k, finish_k):\n",
    "    empirical_risks[k] = (np.sum(confusion_matrix) - np.trace(confusion_matrix)) / np.sum(confusion_matrix)\n",
    "empirical_risks"
   ],
   "id": "874754f6475bf99e",
   "outputs": [
    {
     "data": {
      "text/plain": [
       "array([0.        , 0.        , 0.        , 0.03553922, 0.0245098 ,\n",
       "       0.06642157, 0.06642157, 0.06666667, 0.06642157, 0.06691176,\n",
       "       0.06666667, 0.06691176, 0.06666667, 0.06740196, 0.06691176])"
      ]
     },
     "metadata": {},
     "output_type": "execute_result"
    }
   ],
  },
  {
   "metadata": {
    "ExecuteTime": {
    }
   },
   "cell_type": "code",
   "source": [
    "plt.figure(figsize=(18, 12))\n",
    "\n",
    "plt.xlabel('Количество соседей (K)', fontsize=14)\n",
    "plt.ylabel('Эмпирический риск', fontsize=14)\n",
    "plt.title('График эмпирического риска для KNN', fontsize=16)\n",
    "\n",
    "plt.plot(np.arange(start_k, finish_k, dtype=np.uint), empirical_risks[start_k:], color='red')\n",
    "plt.xlim(start_k, finish_k)\n",
    "plt.ylim(0, empirical_risks.max())\n",
    "plt.scatter(np.arange(start_k, finish_k, dtype=np.uint), empirical_risks[start_k:], color='red')\n",
    "\n",
    "plt"
   ],
   "id": "ce6cc6d4fba829ab",
   "outputs": [
    {
     "data": {
      "text/plain": [
     "metadata": {},
     "output_type": "execute_result"
    },
    {
     "data": {
      "text/plain": [
       "<Figure size 1800x1200 with 1 Axes>"
      ],
     },
     "metadata": {},
     "output_type": "display_data"
    }
   ],
  },
  {
   "metadata": {
    "ExecuteTime": {
    }
   },
   "cell_type": "code",
   "source": [
    "from sklearn.neighbors import KNeighborsClassifier\n",
    "from sklearn.metrics import accuracy_score\n",
    "\n",
    "knn = KNeighborsClassifier(n_neighbors=40)\n",
    "\n",
    "knn.fit(X, Y)\n",
    "\n",
    "y_predict = knn.predict(X)\n",
    "\n",
    "accuracy = accuracy_score(Y, y_predict, )\n",
    "accuracy"
   ],
   "id": "ba809db581795394",
   "outputs": [
    {
     "data": {
      "text/plain": [
       "0.9443627450980392"
      ]
     },
     "metadata": {},
     "output_type": "execute_result"
    }
   ],
  },
  {
   "metadata": {
    "ExecuteTime": {
    }
   },
   "cell_type": "code",
   "source": [
    "confusion_matrix = KNNClassifier.predict_bulk(X, Y, X, Y, len(Y_labels), 40)\n",
    "np.trace(confusion_matrix) / np.sum(confusion_matrix)\n"
   ],
   "id": "349dba282e62aa4",
   "outputs": [
    {
  }
 ],
 "metadata": {
  "kernelspec": {
   "display_name": "Python 3",
   "language": "python",
   "name": "python3"
  },
  "language_info": {
   "codemirror_mode": {
    "name": "ipython",
    "version": 2
   },
   "file_extension": ".py",
   "mimetype": "text/x-python",
   "name": "python",
   "nbconvert_exporter": "python",
   "pygments_lexer": "ipython2",
   "version": "2.7.6"
  }
 },
 "nbformat": 4,
 "nbformat_minor": 5
}