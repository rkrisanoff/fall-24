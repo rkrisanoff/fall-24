{
 "cells": [
  {
   "cell_type": "code",
   "execution_count": 108,
   "id": "0360b92d-3660-48fe-8f45-2195b9b65dcb",
   "metadata": {},
   "outputs": [],
   "source": [
    "import numpy as np\n",
    "import pandas as pd\n",
    "import seaborn as sns\n",
    "import matplotlib.pyplot as plt\n",
    "from sklearn.decomposition import PCA\n",
    "from sklearn.model_selection import train_test_split\n",
    "from sklearn.neighbors import KNeighborsClassifier\n",
    "from collections import defaultdict\n",
    "import time"
   ]
  },
  {
   "cell_type": "code",
   "execution_count": 7,
   "id": "fb48586d-1d75-4269-b708-baa94876c334",
   "metadata": {},
   "outputs": [],
   "source": [
    "glass=pd.read_csv('glass.csv',sep=',') #Чтение датасета"
   ]
  },
  {
   "cell_type": "code",
   "execution_count": 9,
   "id": "dfb84e76-f851-4ae9-96cb-12a0a8e8d363",
   "metadata": {},
   "outputs": [
    {
     "data": {
      "text/html": [
       "<div>\n",
       "<style scoped>\n",
       "    .dataframe tbody tr th:only-of-type {\n",
       "        vertical-align: middle;\n",
       "    }\n",
       "\n",
       "    .dataframe tbody tr th {\n",
       "        vertical-align: top;\n",
       "    }\n",
       "\n",
       "    .dataframe thead th {\n",
       "        text-align: right;\n",
       "    }\n",
       "</style>\n",
       "<table border=\"1\" class=\"dataframe\">\n",
       "  <thead>\n",
       "    <tr style=\"text-align: right;\">\n",
       "      <th></th>\n",
       "      <th>RI</th>\n",
       "      <th>Na</th>\n",
       "      <th>Mg</th>\n",
       "      <th>Al</th>\n",
       "      <th>Si</th>\n",
       "      <th>K</th>\n",
       "      <th>Ca</th>\n",
       "      <th>Ba</th>\n",
       "      <th>Fe</th>\n",
       "      <th>Type</th>\n",
       "    </tr>\n",
       "  </thead>\n",
       "  <tbody>\n",
       "    <tr>\n",
       "      <th>count</th>\n",
       "      <td>214.000000</td>\n",
       "      <td>214.000000</td>\n",
       "      <td>214.000000</td>\n",
       "      <td>214.000000</td>\n",
       "      <td>214.000000</td>\n",
       "      <td>214.000000</td>\n",
       "      <td>214.000000</td>\n",
       "      <td>214.000000</td>\n",
       "      <td>214.000000</td>\n",
       "      <td>214.000000</td>\n",
       "    </tr>\n",
       "    <tr>\n",
       "      <th>mean</th>\n",
       "      <td>1.518365</td>\n",
       "      <td>13.407850</td>\n",
       "      <td>2.684533</td>\n",
       "      <td>1.444907</td>\n",
       "      <td>72.650935</td>\n",
       "      <td>0.497056</td>\n",
       "      <td>8.956963</td>\n",
       "      <td>0.175047</td>\n",
       "      <td>0.057009</td>\n",
       "      <td>2.780374</td>\n",
       "    </tr>\n",
       "    <tr>\n",
       "      <th>std</th>\n",
       "      <td>0.003037</td>\n",
       "      <td>0.816604</td>\n",
       "      <td>1.442408</td>\n",
       "      <td>0.499270</td>\n",
       "      <td>0.774546</td>\n",
       "      <td>0.652192</td>\n",
       "      <td>1.423153</td>\n",
       "      <td>0.497219</td>\n",
       "      <td>0.097439</td>\n",
       "      <td>2.103739</td>\n",
       "    </tr>\n",
       "    <tr>\n",
       "      <th>min</th>\n",
       "      <td>1.511150</td>\n",
       "      <td>10.730000</td>\n",
       "      <td>0.000000</td>\n",
       "      <td>0.290000</td>\n",
       "      <td>69.810000</td>\n",
       "      <td>0.000000</td>\n",
       "      <td>5.430000</td>\n",
       "      <td>0.000000</td>\n",
       "      <td>0.000000</td>\n",
       "      <td>1.000000</td>\n",
       "    </tr>\n",
       "    <tr>\n",
       "      <th>25%</th>\n",
       "      <td>1.516522</td>\n",
       "      <td>12.907500</td>\n",
       "      <td>2.115000</td>\n",
       "      <td>1.190000</td>\n",
       "      <td>72.280000</td>\n",
       "      <td>0.122500</td>\n",
       "      <td>8.240000</td>\n",
       "      <td>0.000000</td>\n",
       "      <td>0.000000</td>\n",
       "      <td>1.000000</td>\n",
       "    </tr>\n",
       "    <tr>\n",
       "      <th>50%</th>\n",
       "      <td>1.517680</td>\n",
       "      <td>13.300000</td>\n",
       "      <td>3.480000</td>\n",
       "      <td>1.360000</td>\n",
       "      <td>72.790000</td>\n",
       "      <td>0.555000</td>\n",
       "      <td>8.600000</td>\n",
       "      <td>0.000000</td>\n",
       "      <td>0.000000</td>\n",
       "      <td>2.000000</td>\n",
       "    </tr>\n",
       "    <tr>\n",
       "      <th>75%</th>\n",
       "      <td>1.519157</td>\n",
       "      <td>13.825000</td>\n",
       "      <td>3.600000</td>\n",
       "      <td>1.630000</td>\n",
       "      <td>73.087500</td>\n",
       "      <td>0.610000</td>\n",
       "      <td>9.172500</td>\n",
       "      <td>0.000000</td>\n",
       "      <td>0.100000</td>\n",
       "      <td>3.000000</td>\n",
       "    </tr>\n",
       "    <tr>\n",
       "      <th>max</th>\n",
       "      <td>1.533930</td>\n",
       "      <td>17.380000</td>\n",
       "      <td>4.490000</td>\n",
       "      <td>3.500000</td>\n",
       "      <td>75.410000</td>\n",
       "      <td>6.210000</td>\n",
       "      <td>16.190000</td>\n",
       "      <td>3.150000</td>\n",
       "      <td>0.510000</td>\n",
       "      <td>7.000000</td>\n",
       "    </tr>\n",
       "  </tbody>\n",
       "</table>\n",
       "</div>"
      ],
      "text/plain": [
       "               RI          Na          Mg          Al          Si           K  \\\n",
       "count  214.000000  214.000000  214.000000  214.000000  214.000000  214.000000   \n",
       "mean     1.518365   13.407850    2.684533    1.444907   72.650935    0.497056   \n",
       "std      0.003037    0.816604    1.442408    0.499270    0.774546    0.652192   \n",
       "min      1.511150   10.730000    0.000000    0.290000   69.810000    0.000000   \n",
       "25%      1.516522   12.907500    2.115000    1.190000   72.280000    0.122500   \n",
       "50%      1.517680   13.300000    3.480000    1.360000   72.790000    0.555000   \n",
       "75%      1.519157   13.825000    3.600000    1.630000   73.087500    0.610000   \n",
       "max      1.533930   17.380000    4.490000    3.500000   75.410000    6.210000   \n",
       "\n",
       "               Ca          Ba          Fe        Type  \n",
       "count  214.000000  214.000000  214.000000  214.000000  \n",
       "mean     8.956963    0.175047    0.057009    2.780374  \n",
       "std      1.423153    0.497219    0.097439    2.103739  \n",
       "min      5.430000    0.000000    0.000000    1.000000  \n",
       "25%      8.240000    0.000000    0.000000    1.000000  \n",
       "50%      8.600000    0.000000    0.000000    2.000000  \n",
       "75%      9.172500    0.000000    0.100000    3.000000  \n",
       "max     16.190000    3.150000    0.510000    7.000000  "
      ]
     },
     "execution_count": 9,
     "metadata": {},
     "output_type": "execute_result"
    }
   ],
   "source": [
    "glass.describe()#Описательная статистика датасета"
   ]
  },
  {
   "cell_type": "code",
   "execution_count": 11,
   "id": "8083fde9-53b4-4901-9fad-49609cf7a41f",
   "metadata": {},
   "outputs": [
    {
     "name": "stdout",
     "output_type": "stream",
     "text": [
      "<class 'pandas.core.frame.DataFrame'>\n",
      "RangeIndex: 214 entries, 0 to 213\n",
      "Data columns (total 10 columns):\n",
      " #   Column  Non-Null Count  Dtype  \n",
      "---  ------  --------------  -----  \n",
      " 0   RI      214 non-null    float64\n",
      " 1   Na      214 non-null    float64\n",
      " 2   Mg      214 non-null    float64\n",
      " 3   Al      214 non-null    float64\n",
      " 4   Si      214 non-null    float64\n",
      " 5   K       214 non-null    float64\n",
      " 6   Ca      214 non-null    float64\n",
      " 7   Ba      214 non-null    float64\n",
      " 8   Fe      214 non-null    float64\n",
      " 9   Type    214 non-null    int64  \n",
      "dtypes: float64(9), int64(1)\n",
      "memory usage: 16.8 KB\n"
     ]
    }
   ],
   "source": [
    "glass.info()#Проверка на пропуски"
   ]
  },
  {
   "cell_type": "code",
   "execution_count": 19,
   "id": "8af47da9-253c-4b6b-80a9-c4bc84a172ca",
   "metadata": {},
   "outputs": [],
   "source": [
    "def standartize_data(data): #Стандартизация данных\n",
    "    d=(data-data.mean())/data.std()\n",
    "    return d.to_numpy()\n"
   ]
  },
  {
   "cell_type": "code",
   "execution_count": 13,
   "id": "285b73ae-0cd5-4d56-b12a-6dbbbcb11f8c",
   "metadata": {},
   "outputs": [],
   "source": [
    "X=glass[['RI', 'Na', 'Mg', 'Al', 'Si', 'K', 'Ca', 'Ba', 'Fe']]"
   ]
  },
  {
   "cell_type": "code",
   "execution_count": 42,
   "id": "9d0fcf66-6c98-4b50-95e8-0b706120750c",
   "metadata": {},
   "outputs": [],
   "source": [
    "y=glass[['Type']]"
   ]
  },
  {
   "cell_type": "code",
   "execution_count": 21,
   "id": "a8805402-28be-4145-8cf5-e27246732f4b",
   "metadata": {},
   "outputs": [],
   "source": [
    "x=standartize_data(X)"
   ]
  },
  {
   "cell_type": "code",
   "execution_count": 23,
   "id": "c0843fa2-a028-4ebb-8076-09e4b4c22dd0",
   "metadata": {},
   "outputs": [],
   "source": [
    "pca = PCA(n_components=2)\n",
    "Y=pca.fit_transform(x)"
   ]
  },
  {
   "cell_type": "code",
   "execution_count": 146,
   "id": "549de32a-c8a6-45ce-954b-18b3eb87852d",
   "metadata": {},
   "outputs": [],
   "source": [
    "#plt.scatter(Y[:,0],Y[:,1])\n",
    "#plt.show()"
   ]
  },
  {
   "cell_type": "code",
   "execution_count": 72,
   "id": "25d7b7c8-482b-4f30-a1b5-3ddc0e0434cd",
   "metadata": {},
   "outputs": [],
   "source": [
    "def euclide(x_t,x):\n",
    "    return np.sum(np.power((x_t[:,None]-x),2),axis=-1)\n",
    "\n",
    "def gauss_kernel(dists, k):#Расчёт Гауссова ядра\n",
    "    return 1 / np.sqrt(2*np.pi)*np.exp(-((dists[:,:k]/dists[:,k].reshape(dists.shape[0],-1)**2)/2))\n",
    "    \n",
    "def abs_dist(x_t,x): #L1-метрика\n",
    "    return np.sum(np.abs(x_t[:,None]-x),axis=-1)"
   ]
  },
  {
   "cell_type": "code",
   "execution_count": 138,
   "id": "16a1ab8f-48b4-4c1f-b059-4ea832fae4ae",
   "metadata": {},
   "outputs": [],
   "source": [
    "class KNN():\n",
    "    def fit_predict(self, x_train, y_train, x_test, k, method='euclide'):\n",
    "        if method=='euclide':\n",
    "            dists=euclide(x_test, x_train)#Расстояния от вводимых точек до обучающих\n",
    "        else:\n",
    "            dists=abs_dist(x_test, x_train)\n",
    "        s_dists=np.sort(dists)[:,:k+1]#Отсортированные k ближайших к вводимым обучающих точек \n",
    "        s_idx=np.argsort(dists)[:,:k]#Индексы отсортированных точек\n",
    "        weights=gauss_kernel(dists,k)#Веса объектов\n",
    "        marks=[]#Итоговые метки классов\n",
    "        for i in range(s_idx.shape[0]): #Итерируемся по каждому тестовому объекту\n",
    "            u=y_train[s_idx[i,:k]] #Метки классов k ближайших точек\n",
    "            data=defaultdict() \n",
    "            for j in range(k):#Объявление и заполнение словаря метка класса:суммарный вес\n",
    "                data[u[j]]=0\n",
    "            for j in range(k):\n",
    "                data[u[j]]+=weights[i,j] #Добавление сумм весов в массив\n",
    "            marks.append(max(data, key=data.get))#Итоговый ответ     \n",
    "        return marks\n",
    "\n",
    "    def leave_one_out(self,x,y, k, method='euclide'):\n",
    "        marks=[]\n",
    "        for i in range(x.shape[0]):#Подготовка данных и обучение\n",
    "            x_test=np.array([x[i,:]])\n",
    "            x_train=np.delete(x,i,axis=0)\n",
    "            y_test=y[i]\n",
    "            y_train=np.delete(y,i,axis=0)\n",
    "            marks.append(self.fit_predict(x_train, y_train, x_test,k, method)[0])\n",
    "        return np.sum(marks==y)/len(marks)#Возвращение точности классификации        \n",
    "\n",
    "    def build_graph(self,x,y, method='euclide'):#Построение графика\n",
    "        precisions=[]\n",
    "        for i in range(1, 101):\n",
    "            precisions.append(self.leave_one_out(x,y,i, method))\n",
    "        plt.plot([i for i in range(1,101)],precisions)\n",
    "        plt.xlabel('Число соседей')\n",
    "        plt.ylabel('Точность классификации')\n",
    "        plt.title('График эмпирического риска')\n",
    "        plt.show()        "
   ]
  },
  {
   "cell_type": "code",
   "execution_count": 44,
   "id": "0688b694-b391-4d62-88db-49347414e659",
   "metadata": {},
   "outputs": [],
   "source": [
    "y=y.to_numpy().reshape(-1)"
   ]
  },
  {
   "cell_type": "code",
   "execution_count": 46,
   "id": "17c57360-aec7-43d6-815c-da7d96f21704",
   "metadata": {},
   "outputs": [],
   "source": [
    "X_train, X_test, y_train, y_test = train_test_split(\n",
    "    x, y, test_size=0.3, random_state=2025)"
   ]
  },
  {
   "cell_type": "code",
   "execution_count": 76,
   "id": "d0d9528e-1d12-4113-8cac-e7de9651a0d2",
   "metadata": {},
   "outputs": [],
   "source": [
    "knn=KNN()"
   ]
  },
  {
   "cell_type": "code",
   "execution_count": 150,
   "id": "d1eb4242-7a53-477b-a39f-445b8889f555",
   "metadata": {},
   "outputs": [],
   "source": [
    "#knn.build_graph(X_train,y_train)"
   ]
  },
  {
   "cell_type": "code",
   "execution_count": 154,
   "id": "ac539349-fe41-4dac-9c50-3dbefa2dc5dc",
   "metadata": {},
   "outputs": [],
   "source": [
    "#knn.build_graph(X_train,y_train, method='abs')"
   ]
  },
  {
   "cell_type": "code",
   "execution_count": 124,
   "id": "d7d591d2-60ec-4227-a185-c53f8728a732",
   "metadata": {},
   "outputs": [
    {
     "name": "stdout",
     "output_type": "stream",
     "text": [
      "Accuracy: 0.7076923076923077\n"
     ]
    }
   ],
   "source": [
    "start = time.time()\n",
    "predict_1=knn.fit_predict(X_train, y_train, X_test, 4, method='euclide')\n",
    "end = time.time()\n",
    "print('Accuracy:',np.sum(predict_1==y_test)/len(predict_1))"
   ]
  },
  {
   "cell_type": "code",
   "execution_count": 112,
   "id": "2ca63048-926c-4be8-8983-63bdc5688401",
   "metadata": {},
   "outputs": [
    {
     "name": "stdout",
     "output_type": "stream",
     "text": [
      "Время выполнения программы: 3.0260086059570312 ms\n"
     ]
    }
   ],
   "source": [
    "print(\"Время выполнения программы:\",\n",
    "      (end-start) * 10**3, \"ms\")"
   ]
  },
  {
   "cell_type": "code",
   "execution_count": 100,
   "id": "4ff7270e-09b0-4840-a169-e12ce8a44583",
   "metadata": {},
   "outputs": [
    {
     "name": "stdout",
     "output_type": "stream",
     "text": [
      "Accuracy: 0.6615384615384615\n"
     ]
    }
   ],
   "source": [
    "predict_2=knn.fit_predict(X_train, y_train, X_test, 1, method='abs')\n",
    "print('Accuracy:',np.sum(predict_2==y_test)/len(predict_1))"
   ]
  },
  {
   "cell_type": "code",
   "execution_count": 140,
   "id": "0a37211e-e480-4539-bd74-3c6f4e418ae4",
   "metadata": {},
   "outputs": [],
   "source": [
    "neigh = KNeighborsClassifier(n_neighbors=4)#Эталонная реализация\n",
    "start = time.time()\n",
    "neigh.fit(X_train, y_train)\n",
    "pr=neigh.predict(X_test)\n",
    "end = time.time()"
   ]
  },
  {
   "cell_type": "code",
   "execution_count": 128,
   "id": "4fbc766a-8fd6-4dfa-b276-fe9869fee936",
   "metadata": {},
   "outputs": [
    {
     "name": "stdout",
     "output_type": "stream",
     "text": [
      "Время выполнения программы: 3.08990478515625 ms\n"
     ]
    }
   ],
   "source": [
    "print(\"Время выполнения программы:\",\n",
    "      (end-start) * 10**3, \"ms\")"
   ]
  },
  {
   "cell_type": "code",
   "execution_count": 130,
   "id": "af93580a-fbc3-4347-9a54-c0056c2b48ba",
   "metadata": {},
   "outputs": [
    {
     "data": {
      "text/plain": [
       "0.8615384615384616"
      ]
     },
     "execution_count": 130,
     "metadata": {},
     "output_type": "execute_result"
    }
   ],
   "source": [
    "np.sum(predict_1==pr)/len(predict_1) #Совпадение ответов на 86%"
   ]
  },
  {
   "cell_type": "code",
   "execution_count": 142,
   "id": "bb873737-0cef-4e50-b5b9-3d59c98a3107",
   "metadata": {},
   "outputs": [
    {
     "name": "stdout",
     "output_type": "stream",
     "text": [
      "Accuracy: 0.7076923076923077\n"
     ]
    }
   ],
   "source": [
    "print('Accuracy:',np.sum(pr==y_test)/len(pr)) #Точность одинаковая"
   ]
  },
  {
   "cell_type": "code",
   "execution_count": null,
   "id": "4c2956de-b144-4475-abda-e08a998cacaf",
   "metadata": {},
   "outputs": [],
   "source": []
  }
 ],
 "metadata": {
  "kernelspec": {
   "display_name": "Python 3 (ipykernel)",
   "language": "python",
   "name": "python3"
  },
  "language_info": {
   "codemirror_mode": {
    "name": "ipython",
    "version": 3
   },
   "file_extension": ".py",
   "mimetype": "text/x-python",
   "name": "python",
   "nbconvert_exporter": "python",
   "pygments_lexer": "ipython3",
   "version": "3.12.4"
  }
 },
 "nbformat": 4,
 "nbformat_minor": 5
}
