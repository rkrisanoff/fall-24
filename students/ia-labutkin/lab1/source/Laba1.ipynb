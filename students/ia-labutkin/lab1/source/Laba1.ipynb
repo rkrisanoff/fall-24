{
 "cells": [
  {
   "cell_type": "markdown",
   "id": "586e2495",
   "metadata": {},
   "source": [
    "# Лабораторная работа 1"
   ]
  },
  {
   "cell_type": "markdown",
   "id": "0e72fcd8",
   "metadata": {},
   "source": [
    "Выполнил: Лабуткин Иван Алексеевич, группа 4144"
   ]
  },
  {
   "cell_type": "markdown",
   "id": "67979a2f",
   "metadata": {},
   "source": [
    "## Импорт необходимых библиотек"
   ]
  },
  {
   "cell_type": "code",
   "execution_count": 19,
   "id": "c8a58c29",
   "metadata": {},
   "outputs": [],
   "source": [
    "import numpy as np\n",
    "import pandas as pd\n",
    "import matplotlib.pyplot as plt\n",
    "import seaborn as sns\n",
    "import copy\n",
    "import time"
   ]
  },
  {
   "cell_type": "markdown",
   "id": "cb628d72",
   "metadata": {},
   "source": [
    "## Анализ первого датасета"
   ]
  },
  {
   "cell_type": "markdown",
   "id": "0b272237",
   "metadata": {},
   "source": [
    "Первый датасет был взят с Kaggle - результаты химического анализа итальянского вина от 3 производителей\n",
    "Датасет был выбран из-за небольшого числа объектов и удобных типов данных (все непрерывные)"
   ]
  },
  {
   "cell_type": "code",
   "execution_count": 23,
   "id": "7a907a02",
   "metadata": {},
   "outputs": [
    {
     "data": {
      "text/html": [
       "<div>\n",
       "<style scoped>\n",
       "    .dataframe tbody tr th:only-of-type {\n",
       "        vertical-align: middle;\n",
       "    }\n",
       "\n",
       "    .dataframe tbody tr th {\n",
       "        vertical-align: top;\n",
       "    }\n",
       "\n",
       "    .dataframe thead th {\n",
       "        text-align: right;\n",
       "    }\n",
       "</style>\n",
       "<table border=\"1\" class=\"dataframe\">\n",
       "  <thead>\n",
       "    <tr style=\"text-align: right;\">\n",
       "      <th></th>\n",
       "      <th>Alcohol</th>\n",
       "      <th>Malic_Acid</th>\n",
       "      <th>Ash</th>\n",
       "      <th>Ash_Alcanity</th>\n",
       "      <th>Magnesium</th>\n",
       "      <th>Total_Phenols</th>\n",
       "      <th>Flavanoids</th>\n",
       "      <th>Nonflavanoid_Phenols</th>\n",
       "      <th>Proanthocyanins</th>\n",
       "      <th>Color_Intensity</th>\n",
       "      <th>Hue</th>\n",
       "      <th>OD280</th>\n",
       "      <th>Proline</th>\n",
       "    </tr>\n",
       "  </thead>\n",
       "  <tbody>\n",
       "    <tr>\n",
       "      <th>0</th>\n",
       "      <td>14.23</td>\n",
       "      <td>1.71</td>\n",
       "      <td>2.43</td>\n",
       "      <td>15.6</td>\n",
       "      <td>127</td>\n",
       "      <td>2.80</td>\n",
       "      <td>3.06</td>\n",
       "      <td>0.28</td>\n",
       "      <td>2.29</td>\n",
       "      <td>5.64</td>\n",
       "      <td>1.04</td>\n",
       "      <td>3.92</td>\n",
       "      <td>1065</td>\n",
       "    </tr>\n",
       "    <tr>\n",
       "      <th>1</th>\n",
       "      <td>13.20</td>\n",
       "      <td>1.78</td>\n",
       "      <td>2.14</td>\n",
       "      <td>11.2</td>\n",
       "      <td>100</td>\n",
       "      <td>2.65</td>\n",
       "      <td>2.76</td>\n",
       "      <td>0.26</td>\n",
       "      <td>1.28</td>\n",
       "      <td>4.38</td>\n",
       "      <td>1.05</td>\n",
       "      <td>3.40</td>\n",
       "      <td>1050</td>\n",
       "    </tr>\n",
       "    <tr>\n",
       "      <th>2</th>\n",
       "      <td>13.16</td>\n",
       "      <td>2.36</td>\n",
       "      <td>2.67</td>\n",
       "      <td>18.6</td>\n",
       "      <td>101</td>\n",
       "      <td>2.80</td>\n",
       "      <td>3.24</td>\n",
       "      <td>0.30</td>\n",
       "      <td>2.81</td>\n",
       "      <td>5.68</td>\n",
       "      <td>1.03</td>\n",
       "      <td>3.17</td>\n",
       "      <td>1185</td>\n",
       "    </tr>\n",
       "    <tr>\n",
       "      <th>3</th>\n",
       "      <td>14.37</td>\n",
       "      <td>1.95</td>\n",
       "      <td>2.50</td>\n",
       "      <td>16.8</td>\n",
       "      <td>113</td>\n",
       "      <td>3.85</td>\n",
       "      <td>3.49</td>\n",
       "      <td>0.24</td>\n",
       "      <td>2.18</td>\n",
       "      <td>7.80</td>\n",
       "      <td>0.86</td>\n",
       "      <td>3.45</td>\n",
       "      <td>1480</td>\n",
       "    </tr>\n",
       "    <tr>\n",
       "      <th>4</th>\n",
       "      <td>13.24</td>\n",
       "      <td>2.59</td>\n",
       "      <td>2.87</td>\n",
       "      <td>21.0</td>\n",
       "      <td>118</td>\n",
       "      <td>2.80</td>\n",
       "      <td>2.69</td>\n",
       "      <td>0.39</td>\n",
       "      <td>1.82</td>\n",
       "      <td>4.32</td>\n",
       "      <td>1.04</td>\n",
       "      <td>2.93</td>\n",
       "      <td>735</td>\n",
       "    </tr>\n",
       "    <tr>\n",
       "      <th>...</th>\n",
       "      <td>...</td>\n",
       "      <td>...</td>\n",
       "      <td>...</td>\n",
       "      <td>...</td>\n",
       "      <td>...</td>\n",
       "      <td>...</td>\n",
       "      <td>...</td>\n",
       "      <td>...</td>\n",
       "      <td>...</td>\n",
       "      <td>...</td>\n",
       "      <td>...</td>\n",
       "      <td>...</td>\n",
       "      <td>...</td>\n",
       "    </tr>\n",
       "    <tr>\n",
       "      <th>173</th>\n",
       "      <td>13.71</td>\n",
       "      <td>5.65</td>\n",
       "      <td>2.45</td>\n",
       "      <td>20.5</td>\n",
       "      <td>95</td>\n",
       "      <td>1.68</td>\n",
       "      <td>0.61</td>\n",
       "      <td>0.52</td>\n",
       "      <td>1.06</td>\n",
       "      <td>7.70</td>\n",
       "      <td>0.64</td>\n",
       "      <td>1.74</td>\n",
       "      <td>740</td>\n",
       "    </tr>\n",
       "    <tr>\n",
       "      <th>174</th>\n",
       "      <td>13.40</td>\n",
       "      <td>3.91</td>\n",
       "      <td>2.48</td>\n",
       "      <td>23.0</td>\n",
       "      <td>102</td>\n",
       "      <td>1.80</td>\n",
       "      <td>0.75</td>\n",
       "      <td>0.43</td>\n",
       "      <td>1.41</td>\n",
       "      <td>7.30</td>\n",
       "      <td>0.70</td>\n",
       "      <td>1.56</td>\n",
       "      <td>750</td>\n",
       "    </tr>\n",
       "    <tr>\n",
       "      <th>175</th>\n",
       "      <td>13.27</td>\n",
       "      <td>4.28</td>\n",
       "      <td>2.26</td>\n",
       "      <td>20.0</td>\n",
       "      <td>120</td>\n",
       "      <td>1.59</td>\n",
       "      <td>0.69</td>\n",
       "      <td>0.43</td>\n",
       "      <td>1.35</td>\n",
       "      <td>10.20</td>\n",
       "      <td>0.59</td>\n",
       "      <td>1.56</td>\n",
       "      <td>835</td>\n",
       "    </tr>\n",
       "    <tr>\n",
       "      <th>176</th>\n",
       "      <td>13.17</td>\n",
       "      <td>2.59</td>\n",
       "      <td>2.37</td>\n",
       "      <td>20.0</td>\n",
       "      <td>120</td>\n",
       "      <td>1.65</td>\n",
       "      <td>0.68</td>\n",
       "      <td>0.53</td>\n",
       "      <td>1.46</td>\n",
       "      <td>9.30</td>\n",
       "      <td>0.60</td>\n",
       "      <td>1.62</td>\n",
       "      <td>840</td>\n",
       "    </tr>\n",
       "    <tr>\n",
       "      <th>177</th>\n",
       "      <td>14.13</td>\n",
       "      <td>4.10</td>\n",
       "      <td>2.74</td>\n",
       "      <td>24.5</td>\n",
       "      <td>96</td>\n",
       "      <td>2.05</td>\n",
       "      <td>0.76</td>\n",
       "      <td>0.56</td>\n",
       "      <td>1.35</td>\n",
       "      <td>9.20</td>\n",
       "      <td>0.61</td>\n",
       "      <td>1.60</td>\n",
       "      <td>560</td>\n",
       "    </tr>\n",
       "  </tbody>\n",
       "</table>\n",
       "<p>178 rows × 13 columns</p>\n",
       "</div>"
      ],
      "text/plain": [
       "     Alcohol  Malic_Acid   Ash  Ash_Alcanity  Magnesium  Total_Phenols  \\\n",
       "0      14.23        1.71  2.43          15.6        127           2.80   \n",
       "1      13.20        1.78  2.14          11.2        100           2.65   \n",
       "2      13.16        2.36  2.67          18.6        101           2.80   \n",
       "3      14.37        1.95  2.50          16.8        113           3.85   \n",
       "4      13.24        2.59  2.87          21.0        118           2.80   \n",
       "..       ...         ...   ...           ...        ...            ...   \n",
       "173    13.71        5.65  2.45          20.5         95           1.68   \n",
       "174    13.40        3.91  2.48          23.0        102           1.80   \n",
       "175    13.27        4.28  2.26          20.0        120           1.59   \n",
       "176    13.17        2.59  2.37          20.0        120           1.65   \n",
       "177    14.13        4.10  2.74          24.5         96           2.05   \n",
       "\n",
       "     Flavanoids  Nonflavanoid_Phenols  Proanthocyanins  Color_Intensity   Hue  \\\n",
       "0          3.06                  0.28             2.29             5.64  1.04   \n",
       "1          2.76                  0.26             1.28             4.38  1.05   \n",
       "2          3.24                  0.30             2.81             5.68  1.03   \n",
       "3          3.49                  0.24             2.18             7.80  0.86   \n",
       "4          2.69                  0.39             1.82             4.32  1.04   \n",
       "..          ...                   ...              ...              ...   ...   \n",
       "173        0.61                  0.52             1.06             7.70  0.64   \n",
       "174        0.75                  0.43             1.41             7.30  0.70   \n",
       "175        0.69                  0.43             1.35            10.20  0.59   \n",
       "176        0.68                  0.53             1.46             9.30  0.60   \n",
       "177        0.76                  0.56             1.35             9.20  0.61   \n",
       "\n",
       "     OD280  Proline  \n",
       "0     3.92     1065  \n",
       "1     3.40     1050  \n",
       "2     3.17     1185  \n",
       "3     3.45     1480  \n",
       "4     2.93      735  \n",
       "..     ...      ...  \n",
       "173   1.74      740  \n",
       "174   1.56      750  \n",
       "175   1.56      835  \n",
       "176   1.62      840  \n",
       "177   1.60      560  \n",
       "\n",
       "[178 rows x 13 columns]"
      ]
     },
     "execution_count": 23,
     "metadata": {},
     "output_type": "execute_result"
    }
   ],
   "source": [
    "wine=pd.read_csv('wine-clustering.csv', sep=',')\n",
    "wine"
   ]
  },
  {
   "cell_type": "code",
   "execution_count": 25,
   "id": "70984964",
   "metadata": {},
   "outputs": [
    {
     "data": {
      "text/html": [
       "<div>\n",
       "<style scoped>\n",
       "    .dataframe tbody tr th:only-of-type {\n",
       "        vertical-align: middle;\n",
       "    }\n",
       "\n",
       "    .dataframe tbody tr th {\n",
       "        vertical-align: top;\n",
       "    }\n",
       "\n",
       "    .dataframe thead th {\n",
       "        text-align: right;\n",
       "    }\n",
       "</style>\n",
       "<table border=\"1\" class=\"dataframe\">\n",
       "  <thead>\n",
       "    <tr style=\"text-align: right;\">\n",
       "      <th></th>\n",
       "      <th>Alcohol</th>\n",
       "      <th>Malic_Acid</th>\n",
       "      <th>Ash</th>\n",
       "      <th>Ash_Alcanity</th>\n",
       "      <th>Magnesium</th>\n",
       "      <th>Total_Phenols</th>\n",
       "      <th>Flavanoids</th>\n",
       "      <th>Nonflavanoid_Phenols</th>\n",
       "      <th>Proanthocyanins</th>\n",
       "      <th>Color_Intensity</th>\n",
       "      <th>Hue</th>\n",
       "      <th>OD280</th>\n",
       "      <th>Proline</th>\n",
       "    </tr>\n",
       "  </thead>\n",
       "  <tbody>\n",
       "    <tr>\n",
       "      <th>count</th>\n",
       "      <td>178.000000</td>\n",
       "      <td>178.000000</td>\n",
       "      <td>178.000000</td>\n",
       "      <td>178.000000</td>\n",
       "      <td>178.000000</td>\n",
       "      <td>178.000000</td>\n",
       "      <td>178.000000</td>\n",
       "      <td>178.000000</td>\n",
       "      <td>178.000000</td>\n",
       "      <td>178.000000</td>\n",
       "      <td>178.000000</td>\n",
       "      <td>178.000000</td>\n",
       "      <td>178.000000</td>\n",
       "    </tr>\n",
       "    <tr>\n",
       "      <th>mean</th>\n",
       "      <td>13.000618</td>\n",
       "      <td>2.336348</td>\n",
       "      <td>2.366517</td>\n",
       "      <td>19.494944</td>\n",
       "      <td>99.741573</td>\n",
       "      <td>2.295112</td>\n",
       "      <td>2.029270</td>\n",
       "      <td>0.361854</td>\n",
       "      <td>1.590899</td>\n",
       "      <td>5.058090</td>\n",
       "      <td>0.957449</td>\n",
       "      <td>2.611685</td>\n",
       "      <td>746.893258</td>\n",
       "    </tr>\n",
       "    <tr>\n",
       "      <th>std</th>\n",
       "      <td>0.811827</td>\n",
       "      <td>1.117146</td>\n",
       "      <td>0.274344</td>\n",
       "      <td>3.339564</td>\n",
       "      <td>14.282484</td>\n",
       "      <td>0.625851</td>\n",
       "      <td>0.998859</td>\n",
       "      <td>0.124453</td>\n",
       "      <td>0.572359</td>\n",
       "      <td>2.318286</td>\n",
       "      <td>0.228572</td>\n",
       "      <td>0.709990</td>\n",
       "      <td>314.907474</td>\n",
       "    </tr>\n",
       "    <tr>\n",
       "      <th>min</th>\n",
       "      <td>11.030000</td>\n",
       "      <td>0.740000</td>\n",
       "      <td>1.360000</td>\n",
       "      <td>10.600000</td>\n",
       "      <td>70.000000</td>\n",
       "      <td>0.980000</td>\n",
       "      <td>0.340000</td>\n",
       "      <td>0.130000</td>\n",
       "      <td>0.410000</td>\n",
       "      <td>1.280000</td>\n",
       "      <td>0.480000</td>\n",
       "      <td>1.270000</td>\n",
       "      <td>278.000000</td>\n",
       "    </tr>\n",
       "    <tr>\n",
       "      <th>25%</th>\n",
       "      <td>12.362500</td>\n",
       "      <td>1.602500</td>\n",
       "      <td>2.210000</td>\n",
       "      <td>17.200000</td>\n",
       "      <td>88.000000</td>\n",
       "      <td>1.742500</td>\n",
       "      <td>1.205000</td>\n",
       "      <td>0.270000</td>\n",
       "      <td>1.250000</td>\n",
       "      <td>3.220000</td>\n",
       "      <td>0.782500</td>\n",
       "      <td>1.937500</td>\n",
       "      <td>500.500000</td>\n",
       "    </tr>\n",
       "    <tr>\n",
       "      <th>50%</th>\n",
       "      <td>13.050000</td>\n",
       "      <td>1.865000</td>\n",
       "      <td>2.360000</td>\n",
       "      <td>19.500000</td>\n",
       "      <td>98.000000</td>\n",
       "      <td>2.355000</td>\n",
       "      <td>2.135000</td>\n",
       "      <td>0.340000</td>\n",
       "      <td>1.555000</td>\n",
       "      <td>4.690000</td>\n",
       "      <td>0.965000</td>\n",
       "      <td>2.780000</td>\n",
       "      <td>673.500000</td>\n",
       "    </tr>\n",
       "    <tr>\n",
       "      <th>75%</th>\n",
       "      <td>13.677500</td>\n",
       "      <td>3.082500</td>\n",
       "      <td>2.557500</td>\n",
       "      <td>21.500000</td>\n",
       "      <td>107.000000</td>\n",
       "      <td>2.800000</td>\n",
       "      <td>2.875000</td>\n",
       "      <td>0.437500</td>\n",
       "      <td>1.950000</td>\n",
       "      <td>6.200000</td>\n",
       "      <td>1.120000</td>\n",
       "      <td>3.170000</td>\n",
       "      <td>985.000000</td>\n",
       "    </tr>\n",
       "    <tr>\n",
       "      <th>max</th>\n",
       "      <td>14.830000</td>\n",
       "      <td>5.800000</td>\n",
       "      <td>3.230000</td>\n",
       "      <td>30.000000</td>\n",
       "      <td>162.000000</td>\n",
       "      <td>3.880000</td>\n",
       "      <td>5.080000</td>\n",
       "      <td>0.660000</td>\n",
       "      <td>3.580000</td>\n",
       "      <td>13.000000</td>\n",
       "      <td>1.710000</td>\n",
       "      <td>4.000000</td>\n",
       "      <td>1680.000000</td>\n",
       "    </tr>\n",
       "  </tbody>\n",
       "</table>\n",
       "</div>"
      ],
      "text/plain": [
       "          Alcohol  Malic_Acid         Ash  Ash_Alcanity   Magnesium  \\\n",
       "count  178.000000  178.000000  178.000000    178.000000  178.000000   \n",
       "mean    13.000618    2.336348    2.366517     19.494944   99.741573   \n",
       "std      0.811827    1.117146    0.274344      3.339564   14.282484   \n",
       "min     11.030000    0.740000    1.360000     10.600000   70.000000   \n",
       "25%     12.362500    1.602500    2.210000     17.200000   88.000000   \n",
       "50%     13.050000    1.865000    2.360000     19.500000   98.000000   \n",
       "75%     13.677500    3.082500    2.557500     21.500000  107.000000   \n",
       "max     14.830000    5.800000    3.230000     30.000000  162.000000   \n",
       "\n",
       "       Total_Phenols  Flavanoids  Nonflavanoid_Phenols  Proanthocyanins  \\\n",
       "count     178.000000  178.000000            178.000000       178.000000   \n",
       "mean        2.295112    2.029270              0.361854         1.590899   \n",
       "std         0.625851    0.998859              0.124453         0.572359   \n",
       "min         0.980000    0.340000              0.130000         0.410000   \n",
       "25%         1.742500    1.205000              0.270000         1.250000   \n",
       "50%         2.355000    2.135000              0.340000         1.555000   \n",
       "75%         2.800000    2.875000              0.437500         1.950000   \n",
       "max         3.880000    5.080000              0.660000         3.580000   \n",
       "\n",
       "       Color_Intensity         Hue       OD280      Proline  \n",
       "count       178.000000  178.000000  178.000000   178.000000  \n",
       "mean          5.058090    0.957449    2.611685   746.893258  \n",
       "std           2.318286    0.228572    0.709990   314.907474  \n",
       "min           1.280000    0.480000    1.270000   278.000000  \n",
       "25%           3.220000    0.782500    1.937500   500.500000  \n",
       "50%           4.690000    0.965000    2.780000   673.500000  \n",
       "75%           6.200000    1.120000    3.170000   985.000000  \n",
       "max          13.000000    1.710000    4.000000  1680.000000  "
      ]
     },
     "execution_count": 25,
     "metadata": {},
     "output_type": "execute_result"
    }
   ],
   "source": [
    "wine.describe()#Краткое описание данных"
   ]
  },
  {
   "cell_type": "code",
   "execution_count": 27,
   "id": "d7b77414",
   "metadata": {},
   "outputs": [
    {
     "name": "stdout",
     "output_type": "stream",
     "text": [
      "<class 'pandas.core.frame.DataFrame'>\n",
      "RangeIndex: 178 entries, 0 to 177\n",
      "Data columns (total 13 columns):\n",
      " #   Column                Non-Null Count  Dtype  \n",
      "---  ------                --------------  -----  \n",
      " 0   Alcohol               178 non-null    float64\n",
      " 1   Malic_Acid            178 non-null    float64\n",
      " 2   Ash                   178 non-null    float64\n",
      " 3   Ash_Alcanity          178 non-null    float64\n",
      " 4   Magnesium             178 non-null    int64  \n",
      " 5   Total_Phenols         178 non-null    float64\n",
      " 6   Flavanoids            178 non-null    float64\n",
      " 7   Nonflavanoid_Phenols  178 non-null    float64\n",
      " 8   Proanthocyanins       178 non-null    float64\n",
      " 9   Color_Intensity       178 non-null    float64\n",
      " 10  Hue                   178 non-null    float64\n",
      " 11  OD280                 178 non-null    float64\n",
      " 12  Proline               178 non-null    int64  \n",
      "dtypes: float64(11), int64(2)\n",
      "memory usage: 18.2 KB\n"
     ]
    }
   ],
   "source": [
    "wine.info()#Получение данных о пропусках"
   ]
  },
  {
   "cell_type": "markdown",
   "id": "89373a78",
   "metadata": {},
   "source": [
    "Пропусков нет"
   ]
  },
  {
   "cell_type": "code",
   "execution_count": 146,
   "id": "555a4a65",
   "metadata": {},
   "outputs": [],
   "source": [
    "#for i in wine.columns:\n",
    "    #plt.figure(i)\n",
    "    #sns.histplot(wine[i],kde=True,stat=\"density\")\n",
    "    #plt.show()"
   ]
  },
  {
   "cell_type": "markdown",
   "id": "2a00db7c",
   "metadata": {},
   "source": [
    "Как таковых выбросов не наблюдается"
   ]
  },
  {
   "cell_type": "markdown",
   "id": "b5b5cc3c",
   "metadata": {},
   "source": [
    "Применим метод главных компонент для примерного понимания числа и структуры кластеров"
   ]
  },
  {
   "cell_type": "code",
   "execution_count": 33,
   "id": "b2572324",
   "metadata": {},
   "outputs": [],
   "source": [
    "from sklearn.decomposition import PCA"
   ]
  },
  {
   "cell_type": "code",
   "execution_count": 34,
   "id": "4efccdaf",
   "metadata": {},
   "outputs": [],
   "source": [
    "d=(wine-wine.mean())/wine.std()\n",
    "d=d.to_numpy()#Стандартизация"
   ]
  },
  {
   "cell_type": "code",
   "execution_count": 35,
   "id": "3d1563dd",
   "metadata": {},
   "outputs": [],
   "source": [
    "pca = PCA(n_components=2)\n",
    "y=pca.fit_transform(d)"
   ]
  },
  {
   "cell_type": "code",
   "execution_count": 148,
   "id": "38dcec7e",
   "metadata": {},
   "outputs": [],
   "source": [
    "#plt.scatter(y[:,0],y[:,1])\n",
    "#plt.show()"
   ]
  },
  {
   "cell_type": "markdown",
   "id": "cce0e909",
   "metadata": {},
   "source": [
    "По графику можно заметить, что кластеров, скорее всего, 3. Их структура - кластеры с центром, возможно, соединённые перемычками"
   ]
  },
  {
   "cell_type": "markdown",
   "id": "7c4e1a5b",
   "metadata": {},
   "source": [
    "# Анализ второго датасета"
   ]
  },
  {
   "cell_type": "markdown",
   "id": "98665c54",
   "metadata": {},
   "source": [
    "Второй датасет также был взят с Kaggle, это данные об использовании кредитных карт потребителями, где собраны данные о средних лимитах кредитных карт, о числе карт, визитов в банк онлайн и оффлайн и о числе звонков в банки\n",
    "\n",
    "Кластеризовав эти данные, можно найти основные группы поведения пользователей банковских услуг. Датасет был взят, поскольку все данные непрерывные, а число кластеров здесь не так очевидно, как в прошлом датасете"
   ]
  },
  {
   "cell_type": "code",
   "execution_count": 130,
   "id": "6e7a4925",
   "metadata": {},
   "outputs": [
    {
     "data": {
      "text/html": [
       "<div>\n",
       "<style scoped>\n",
       "    .dataframe tbody tr th:only-of-type {\n",
       "        vertical-align: middle;\n",
       "    }\n",
       "\n",
       "    .dataframe tbody tr th {\n",
       "        vertical-align: top;\n",
       "    }\n",
       "\n",
       "    .dataframe thead th {\n",
       "        text-align: right;\n",
       "    }\n",
       "</style>\n",
       "<table border=\"1\" class=\"dataframe\">\n",
       "  <thead>\n",
       "    <tr style=\"text-align: right;\">\n",
       "      <th></th>\n",
       "      <th>Sl_No</th>\n",
       "      <th>Customer Key</th>\n",
       "      <th>Avg_Credit_Limit</th>\n",
       "      <th>Total_Credit_Cards</th>\n",
       "      <th>Total_visits_bank</th>\n",
       "      <th>Total_visits_online</th>\n",
       "      <th>Total_calls_made</th>\n",
       "    </tr>\n",
       "  </thead>\n",
       "  <tbody>\n",
       "    <tr>\n",
       "      <th>0</th>\n",
       "      <td>1</td>\n",
       "      <td>87073</td>\n",
       "      <td>100000</td>\n",
       "      <td>2</td>\n",
       "      <td>1</td>\n",
       "      <td>1</td>\n",
       "      <td>0</td>\n",
       "    </tr>\n",
       "    <tr>\n",
       "      <th>1</th>\n",
       "      <td>2</td>\n",
       "      <td>38414</td>\n",
       "      <td>50000</td>\n",
       "      <td>3</td>\n",
       "      <td>0</td>\n",
       "      <td>10</td>\n",
       "      <td>9</td>\n",
       "    </tr>\n",
       "    <tr>\n",
       "      <th>2</th>\n",
       "      <td>3</td>\n",
       "      <td>17341</td>\n",
       "      <td>50000</td>\n",
       "      <td>7</td>\n",
       "      <td>1</td>\n",
       "      <td>3</td>\n",
       "      <td>4</td>\n",
       "    </tr>\n",
       "    <tr>\n",
       "      <th>3</th>\n",
       "      <td>4</td>\n",
       "      <td>40496</td>\n",
       "      <td>30000</td>\n",
       "      <td>5</td>\n",
       "      <td>1</td>\n",
       "      <td>1</td>\n",
       "      <td>4</td>\n",
       "    </tr>\n",
       "    <tr>\n",
       "      <th>4</th>\n",
       "      <td>5</td>\n",
       "      <td>47437</td>\n",
       "      <td>100000</td>\n",
       "      <td>6</td>\n",
       "      <td>0</td>\n",
       "      <td>12</td>\n",
       "      <td>3</td>\n",
       "    </tr>\n",
       "    <tr>\n",
       "      <th>...</th>\n",
       "      <td>...</td>\n",
       "      <td>...</td>\n",
       "      <td>...</td>\n",
       "      <td>...</td>\n",
       "      <td>...</td>\n",
       "      <td>...</td>\n",
       "      <td>...</td>\n",
       "    </tr>\n",
       "    <tr>\n",
       "      <th>655</th>\n",
       "      <td>656</td>\n",
       "      <td>51108</td>\n",
       "      <td>99000</td>\n",
       "      <td>10</td>\n",
       "      <td>1</td>\n",
       "      <td>10</td>\n",
       "      <td>0</td>\n",
       "    </tr>\n",
       "    <tr>\n",
       "      <th>656</th>\n",
       "      <td>657</td>\n",
       "      <td>60732</td>\n",
       "      <td>84000</td>\n",
       "      <td>10</td>\n",
       "      <td>1</td>\n",
       "      <td>13</td>\n",
       "      <td>2</td>\n",
       "    </tr>\n",
       "    <tr>\n",
       "      <th>657</th>\n",
       "      <td>658</td>\n",
       "      <td>53834</td>\n",
       "      <td>145000</td>\n",
       "      <td>8</td>\n",
       "      <td>1</td>\n",
       "      <td>9</td>\n",
       "      <td>1</td>\n",
       "    </tr>\n",
       "    <tr>\n",
       "      <th>658</th>\n",
       "      <td>659</td>\n",
       "      <td>80655</td>\n",
       "      <td>172000</td>\n",
       "      <td>10</td>\n",
       "      <td>1</td>\n",
       "      <td>15</td>\n",
       "      <td>0</td>\n",
       "    </tr>\n",
       "    <tr>\n",
       "      <th>659</th>\n",
       "      <td>660</td>\n",
       "      <td>80150</td>\n",
       "      <td>167000</td>\n",
       "      <td>9</td>\n",
       "      <td>0</td>\n",
       "      <td>12</td>\n",
       "      <td>2</td>\n",
       "    </tr>\n",
       "  </tbody>\n",
       "</table>\n",
       "<p>660 rows × 7 columns</p>\n",
       "</div>"
      ],
      "text/plain": [
       "     Sl_No  Customer Key  Avg_Credit_Limit  Total_Credit_Cards  \\\n",
       "0        1         87073            100000                   2   \n",
       "1        2         38414             50000                   3   \n",
       "2        3         17341             50000                   7   \n",
       "3        4         40496             30000                   5   \n",
       "4        5         47437            100000                   6   \n",
       "..     ...           ...               ...                 ...   \n",
       "655    656         51108             99000                  10   \n",
       "656    657         60732             84000                  10   \n",
       "657    658         53834            145000                   8   \n",
       "658    659         80655            172000                  10   \n",
       "659    660         80150            167000                   9   \n",
       "\n",
       "     Total_visits_bank  Total_visits_online  Total_calls_made  \n",
       "0                    1                    1                 0  \n",
       "1                    0                   10                 9  \n",
       "2                    1                    3                 4  \n",
       "3                    1                    1                 4  \n",
       "4                    0                   12                 3  \n",
       "..                 ...                  ...               ...  \n",
       "655                  1                   10                 0  \n",
       "656                  1                   13                 2  \n",
       "657                  1                    9                 1  \n",
       "658                  1                   15                 0  \n",
       "659                  0                   12                 2  \n",
       "\n",
       "[660 rows x 7 columns]"
      ]
     },
     "execution_count": 130,
     "metadata": {},
     "output_type": "execute_result"
    }
   ],
   "source": [
    "custs=pd.read_csv('Credit Card Customer Data.csv', sep=',')\n",
    "custs"
   ]
  },
  {
   "cell_type": "code",
   "execution_count": 47,
   "id": "c6c4a6ec",
   "metadata": {},
   "outputs": [
    {
     "data": {
      "text/html": [
       "<div>\n",
       "<style scoped>\n",
       "    .dataframe tbody tr th:only-of-type {\n",
       "        vertical-align: middle;\n",
       "    }\n",
       "\n",
       "    .dataframe tbody tr th {\n",
       "        vertical-align: top;\n",
       "    }\n",
       "\n",
       "    .dataframe thead th {\n",
       "        text-align: right;\n",
       "    }\n",
       "</style>\n",
       "<table border=\"1\" class=\"dataframe\">\n",
       "  <thead>\n",
       "    <tr style=\"text-align: right;\">\n",
       "      <th></th>\n",
       "      <th>Sl_No</th>\n",
       "      <th>Customer Key</th>\n",
       "      <th>Avg_Credit_Limit</th>\n",
       "      <th>Total_Credit_Cards</th>\n",
       "      <th>Total_visits_bank</th>\n",
       "      <th>Total_visits_online</th>\n",
       "      <th>Total_calls_made</th>\n",
       "    </tr>\n",
       "  </thead>\n",
       "  <tbody>\n",
       "    <tr>\n",
       "      <th>count</th>\n",
       "      <td>660.000000</td>\n",
       "      <td>660.000000</td>\n",
       "      <td>660.000000</td>\n",
       "      <td>660.000000</td>\n",
       "      <td>660.000000</td>\n",
       "      <td>660.000000</td>\n",
       "      <td>660.000000</td>\n",
       "    </tr>\n",
       "    <tr>\n",
       "      <th>mean</th>\n",
       "      <td>330.500000</td>\n",
       "      <td>55141.443939</td>\n",
       "      <td>34574.242424</td>\n",
       "      <td>4.706061</td>\n",
       "      <td>2.403030</td>\n",
       "      <td>2.606061</td>\n",
       "      <td>3.583333</td>\n",
       "    </tr>\n",
       "    <tr>\n",
       "      <th>std</th>\n",
       "      <td>190.669872</td>\n",
       "      <td>25627.772200</td>\n",
       "      <td>37625.487804</td>\n",
       "      <td>2.167835</td>\n",
       "      <td>1.631813</td>\n",
       "      <td>2.935724</td>\n",
       "      <td>2.865317</td>\n",
       "    </tr>\n",
       "    <tr>\n",
       "      <th>min</th>\n",
       "      <td>1.000000</td>\n",
       "      <td>11265.000000</td>\n",
       "      <td>3000.000000</td>\n",
       "      <td>1.000000</td>\n",
       "      <td>0.000000</td>\n",
       "      <td>0.000000</td>\n",
       "      <td>0.000000</td>\n",
       "    </tr>\n",
       "    <tr>\n",
       "      <th>25%</th>\n",
       "      <td>165.750000</td>\n",
       "      <td>33825.250000</td>\n",
       "      <td>10000.000000</td>\n",
       "      <td>3.000000</td>\n",
       "      <td>1.000000</td>\n",
       "      <td>1.000000</td>\n",
       "      <td>1.000000</td>\n",
       "    </tr>\n",
       "    <tr>\n",
       "      <th>50%</th>\n",
       "      <td>330.500000</td>\n",
       "      <td>53874.500000</td>\n",
       "      <td>18000.000000</td>\n",
       "      <td>5.000000</td>\n",
       "      <td>2.000000</td>\n",
       "      <td>2.000000</td>\n",
       "      <td>3.000000</td>\n",
       "    </tr>\n",
       "    <tr>\n",
       "      <th>75%</th>\n",
       "      <td>495.250000</td>\n",
       "      <td>77202.500000</td>\n",
       "      <td>48000.000000</td>\n",
       "      <td>6.000000</td>\n",
       "      <td>4.000000</td>\n",
       "      <td>4.000000</td>\n",
       "      <td>5.000000</td>\n",
       "    </tr>\n",
       "    <tr>\n",
       "      <th>max</th>\n",
       "      <td>660.000000</td>\n",
       "      <td>99843.000000</td>\n",
       "      <td>200000.000000</td>\n",
       "      <td>10.000000</td>\n",
       "      <td>5.000000</td>\n",
       "      <td>15.000000</td>\n",
       "      <td>10.000000</td>\n",
       "    </tr>\n",
       "  </tbody>\n",
       "</table>\n",
       "</div>"
      ],
      "text/plain": [
       "            Sl_No  Customer Key  Avg_Credit_Limit  Total_Credit_Cards  \\\n",
       "count  660.000000    660.000000        660.000000          660.000000   \n",
       "mean   330.500000  55141.443939      34574.242424            4.706061   \n",
       "std    190.669872  25627.772200      37625.487804            2.167835   \n",
       "min      1.000000  11265.000000       3000.000000            1.000000   \n",
       "25%    165.750000  33825.250000      10000.000000            3.000000   \n",
       "50%    330.500000  53874.500000      18000.000000            5.000000   \n",
       "75%    495.250000  77202.500000      48000.000000            6.000000   \n",
       "max    660.000000  99843.000000     200000.000000           10.000000   \n",
       "\n",
       "       Total_visits_bank  Total_visits_online  Total_calls_made  \n",
       "count         660.000000           660.000000        660.000000  \n",
       "mean            2.403030             2.606061          3.583333  \n",
       "std             1.631813             2.935724          2.865317  \n",
       "min             0.000000             0.000000          0.000000  \n",
       "25%             1.000000             1.000000          1.000000  \n",
       "50%             2.000000             2.000000          3.000000  \n",
       "75%             4.000000             4.000000          5.000000  \n",
       "max             5.000000            15.000000         10.000000  "
      ]
     },
     "execution_count": 47,
     "metadata": {},
     "output_type": "execute_result"
    }
   ],
   "source": [
    "custs.describe()#Краткое описание данных"
   ]
  },
  {
   "cell_type": "code",
   "execution_count": 49,
   "id": "1ae68320",
   "metadata": {},
   "outputs": [
    {
     "name": "stdout",
     "output_type": "stream",
     "text": [
      "<class 'pandas.core.frame.DataFrame'>\n",
      "RangeIndex: 660 entries, 0 to 659\n",
      "Data columns (total 7 columns):\n",
      " #   Column               Non-Null Count  Dtype\n",
      "---  ------               --------------  -----\n",
      " 0   Sl_No                660 non-null    int64\n",
      " 1   Customer Key         660 non-null    int64\n",
      " 2   Avg_Credit_Limit     660 non-null    int64\n",
      " 3   Total_Credit_Cards   660 non-null    int64\n",
      " 4   Total_visits_bank    660 non-null    int64\n",
      " 5   Total_visits_online  660 non-null    int64\n",
      " 6   Total_calls_made     660 non-null    int64\n",
      "dtypes: int64(7)\n",
      "memory usage: 36.2 KB\n"
     ]
    }
   ],
   "source": [
    "custs.info()#Получение данных о пропусках"
   ]
  },
  {
   "cell_type": "markdown",
   "id": "e7ceff7f",
   "metadata": {},
   "source": [
    "Первые две колонки не несут смысла для кластеризации, поскольку являются идентификаторами. Их следует удалить"
   ]
  },
  {
   "cell_type": "code",
   "execution_count": 132,
   "id": "7c550970",
   "metadata": {},
   "outputs": [],
   "source": [
    "custs=custs.drop(['Sl_No', 'Customer Key'], axis=1)"
   ]
  },
  {
   "cell_type": "code",
   "execution_count": 134,
   "id": "0ef401f3",
   "metadata": {},
   "outputs": [],
   "source": [
    "c=(custs-custs.mean())/custs.std()\n",
    "c=c.to_numpy()#Стандартизация"
   ]
  },
  {
   "cell_type": "code",
   "execution_count": 150,
   "id": "542a40d7",
   "metadata": {},
   "outputs": [],
   "source": [
    "#for i in custs.columns:\n",
    "    #plt.figure(i)\n",
    "    #sns.histplot(custs[i],kde=True,stat=\"density\")\n",
    "    #plt.show()"
   ]
  },
  {
   "cell_type": "markdown",
   "id": "b086de65",
   "metadata": {},
   "source": [
    "Выбросов в данном случае также не наблюдается"
   ]
  },
  {
   "cell_type": "code",
   "execution_count": 59,
   "id": "a63d0514",
   "metadata": {},
   "outputs": [],
   "source": [
    "pca = PCA(n_components=2)\n",
    "y=pca.fit_transform(c)"
   ]
  },
  {
   "cell_type": "code",
   "execution_count": 152,
   "id": "ac397dc2",
   "metadata": {},
   "outputs": [],
   "source": [
    "#plt.scatter(y[:,0],y[:,1])\n",
    "#plt.show()"
   ]
  },
  {
   "cell_type": "markdown",
   "id": "69c6ae4f",
   "metadata": {},
   "source": [
    "В данном случае очень хорошо выделяются 3 кластера: 2 из них очень плотные, третий - менее плотный. Есть несколько выбросов"
   ]
  },
  {
   "cell_type": "markdown",
   "id": "097f51bf",
   "metadata": {},
   "source": [
    "# Иерархическая кластеризация"
   ]
  },
  {
   "cell_type": "markdown",
   "id": "5eaf3d97",
   "metadata": {},
   "source": [
    "Вспомогательные функции для реализации класса иерархической кластеризации:"
   ]
  },
  {
   "cell_type": "code",
   "execution_count": 65,
   "id": "69790937",
   "metadata": {},
   "outputs": [],
   "source": [
    "def euclide(x,y):#Расчёт евклидового расстояния между двумя точками\n",
    "    return np.sqrt(np.sum(np.power(x-y,2)))\n",
    "\n",
    "def standartize_data(data): #Стандартизация данных\n",
    "    d=(data-data.mean())/data.std()\n",
    "    return np.asmatrix(d)\n",
    "\n",
    "def max_n(A,d, i_1,i_2):#Метод дальнего соседа\n",
    "    m=-1\n",
    "    for i in A[i_1]:\n",
    "        for j in A[i_2]:\n",
    "            t=euclide(d[i],d[j])\n",
    "            if m<t:#Если нашелся сосед дальше, меняем максимальное расстояние\n",
    "                m=t\n",
    "    return m\n",
    "\n",
    "def make_matrix(data, clusters):#Создание матрицы расстояний\n",
    "    A=np.ones([len(clusters),len(clusters)])*100\n",
    "    for i in range(len(clusters)):\n",
    "        for j in range(i+1, len(clusters)):\n",
    "                A[i,j]=max_n(clusters,data,i,j) \n",
    "    return A\n",
    "\n",
    "def remake_matrix(m,i,j, clusters,data):#Пересчёт матрицы расстояний при измененении составов кластеров\n",
    "    m=np.delete(m,j,0)#Удаление необходимых строки и столбца\n",
    "    m=np.delete(m,j,1)\n",
    "    for c in range(i):#Перерасчёт расстояний \n",
    "        m[c,i]=max_n(clusters,data,c,i)\n",
    "    for c in range(i+1,m.shape[0]):\n",
    "        m[i,c]=max_n(clusters,data,i,c)\n",
    "    return m"
   ]
  },
  {
   "cell_type": "markdown",
   "id": "15102a70",
   "metadata": {},
   "source": [
    "Реализация класса иерархической кластеризации с рассчётом расстояния между кластерами методом дальнего соседа"
   ]
  },
  {
   "cell_type": "code",
   "execution_count": 103,
   "id": "beb7465b",
   "metadata": {},
   "outputs": [],
   "source": [
    "class Hierarchical_clusterer():\n",
    "    learning_history=[] #Объединяемые на каждой итерации кластеры\n",
    "    clusts=[] #Состав кластеров на каждой итераыии\n",
    "    average_between_clusters=[] #Среднее между кластерами\n",
    "    dmatrix=[]#Матрица расстояний\n",
    "    def fit(self,data): \n",
    "        e=[]\n",
    "        d=standartize_data(data) #Стандартизация данных\n",
    "        cl=np.arange(d.shape[0]).reshape((-1,1)).tolist() #Инициализация изначальных кластеров\n",
    "        m=make_matrix(d, cl)#Создание матрицы расстояний\n",
    "        self.dmatrix=m\n",
    "        self.clusts=[]\n",
    "        self.clusts.append(copy.deepcopy(cl))\n",
    "        self.average_between_clusters.insert(0,np.mean(m, where=m !=100))\n",
    "        for i in range(d.shape[0]-1):\n",
    "            similar_clusters=[np.argmin(m)//m.shape[0],np.argmin(m)%m.shape[0]]#Запоминание координат ближайших друг к другу кластеров\n",
    "            e.append([similar_clusters,np.min(m)])\n",
    "            cl[similar_clusters[0]].extend(cl[similar_clusters[1]])#Обновление состава кластеров\n",
    "            cl.pop(similar_clusters[1])\n",
    "            self.average_between_clusters.insert(0,np.mean(m, where=m !=100))#Пересчёт среднего межкластерного расстояния\n",
    "            if m.shape[0]!=1:\n",
    "                m=remake_matrix(m,similar_clusters[0],similar_clusters[1],cl,d)#Пересчёт матрицы расстояний\n",
    "            self.clusts.append(copy.deepcopy(cl))\n",
    "        self.learning_history=e\n",
    "        \n",
    "    def draw_dendrogram(self):#Рисование дендрограммы\n",
    "        dic={}#Словарь с координатами кластеров на плоскости\n",
    "        clusts=self.clusts[-1][0]\n",
    "        for i in range(len(clusts)):#Заполнение словаря\n",
    "            dic[clusts[i]]=[i,0]\n",
    "        fig=plt.figure(figsize = (20, 5))\n",
    "        plt.xticks([i for i in range(len(clusts))],clusts, rotation=90) #Установка изначальных позиций кластеров\n",
    "        max_dist=-1\n",
    "        it=-1\n",
    "        for i in range(len(self.clusts[0])-1):\n",
    "            #Рисование вертикальных линий на объединяемых на каждом из шагов кластеров, высота - расстояние между кластерами\n",
    "            plt.vlines(x = dic.get(self.learning_history[i][0][0])[0], ymax=self.learning_history[i][1], ymin=dic.get(self.learning_history[i][0][0])[1], color = 'b')\n",
    "            plt.vlines(x = dic.get(self.learning_history[i][0][1])[0], ymax=self.learning_history[i][1],ymin=dic.get(self.learning_history[i][0][1])[1], color = 'b')\n",
    "            if max_dist<max(self.learning_history[i][1]-dic.get(self.learning_history[i][0][0])[1],self.learning_history[i][1]-dic.get(self.learning_history[i][0][1])[1]):\n",
    "                max_dist=max(self.learning_history[i][1]-dic.get(self.learning_history[i][0][0])[1],self.learning_history[i][1]-dic.get(self.learning_history[i][0][1])[1])\n",
    "                it=i\n",
    "            \n",
    "            #Рисование горизонтальной линии между объединяемыми кластерами\n",
    "            plt.hlines(xmin=dic.get(self.learning_history[i][0][0])[0], xmax=dic.get(self.learning_history[i][0][1])[0], y=self.learning_history[i][1])\n",
    "            #Обновление координат кластеров\n",
    "            dic.get(self.learning_history[i][0][0])[0], dic.get(self.learning_history[i][0][0])[1]=(dic.get(self.learning_history[i][0][0])[0]+dic.get(self.learning_history[i][0][1])[0])/2, self.learning_history[i][1]\n",
    "            dic.pop(self.learning_history[i][0][1])\n",
    "            #Обновление словаря\n",
    "            for key in sorted(dic.keys()):\n",
    "                if key>self.learning_history[i][0][1]:\n",
    "                    dic[key-1] = dic.pop(key)\n",
    "        plt.title(f'Максимальный прирост расстояния произошел при {len(self.clusts[0])-it+1} кластерах, его значение: {max_dist}')\n",
    "        plt.show()\n",
    "    def predict(self,k): #Предсказание для k кластеров\n",
    "        clusters=self.clusts[-k]#Нужный состав кластеров из истории\n",
    "        pr=np.arange(len(self.clusts[-1][0])).tolist()\n",
    "        for i,obj in enumerate(clusters):#Вывод результатов\n",
    "            for j in obj:\n",
    "                pr[j]=i\n",
    "        return pr\n",
    "    def show_average_between_clusters(self, k):\n",
    "        return self.average_between_clusters[k-1]\n",
    "    def show_average_inside_clusters(self,k):#Расчёт среднего межкластерного расстояния\n",
    "        clusters=self.clusts[-k]\n",
    "        dim=[]\n",
    "        for obj in clusters:\n",
    "            mn=np.array([])\n",
    "            clust=sorted(obj)\n",
    "            if len(clust)!=1:\n",
    "                for i in range(len(clust)):\n",
    "                    for j in range(i+1, len(clust)):\n",
    "                        mn=np.append(mn, self.dmatrix[i,j])\n",
    "                dim.append(np.mean(mn))\n",
    "            else: dim.append(0)\n",
    "        return dim\n",
    "                "
   ]
  },
  {
   "cell_type": "markdown",
   "id": "b62dd142",
   "metadata": {},
   "source": [
    "## Применение иерархической кластеризации для 1 датасета"
   ]
  },
  {
   "cell_type": "code",
   "execution_count": 105,
   "id": "56e3b6a1",
   "metadata": {},
   "outputs": [],
   "source": [
    "hc=Hierarchical_clusterer()"
   ]
  },
  {
   "cell_type": "code",
   "execution_count": 107,
   "id": "47bfae18",
   "metadata": {},
   "outputs": [],
   "source": [
    "start = time.time()\n",
    "hc.fit(wine) #Обучение\n",
    "end = time.time()"
   ]
  },
  {
   "cell_type": "code",
   "execution_count": 108,
   "id": "6d15ae40",
   "metadata": {},
   "outputs": [
    {
     "name": "stdout",
     "output_type": "stream",
     "text": [
      "Время выполнения программы: 5660.907506942749 ms\n"
     ]
    }
   ],
   "source": [
    "print(\"Время выполнения программы:\",\n",
    "      (end-start) * 10**3, \"ms\")"
   ]
  },
  {
   "cell_type": "markdown",
   "id": "cb3d82b9",
   "metadata": {},
   "source": [
    "Посчитать максимальный прирост расстояния"
   ]
  },
  {
   "cell_type": "code",
   "execution_count": 156,
   "id": "8965b5c0",
   "metadata": {},
   "outputs": [],
   "source": [
    "#hc.draw_dendrogram()"
   ]
  },
  {
   "cell_type": "markdown",
   "id": "925008d9",
   "metadata": {},
   "source": [
    "Действительно, в данном случае очень хорошо выделяются 3 кластера"
   ]
  },
  {
   "cell_type": "markdown",
   "id": "c6e79e8c",
   "metadata": {},
   "source": [
    "Сравним результаты с эталонной реализацией:"
   ]
  },
  {
   "cell_type": "code",
   "execution_count": 30,
   "id": "b2a3ac6e",
   "metadata": {},
   "outputs": [],
   "source": [
    "from sklearn.cluster import AgglomerativeClustering\n",
    "d=standartize_data(wine)\n",
    "cluster = AgglomerativeClustering(n_clusters=3, affinity='euclidean', linkage='complete',compute_distances=True)"
   ]
  },
  {
   "cell_type": "code",
   "execution_count": 31,
   "id": "7a03e341",
   "metadata": {},
   "outputs": [
    {
     "name": "stderr",
     "output_type": "stream",
     "text": [
      "C:\\Users\\ilabu\\anaconda3\\lib\\site-packages\\sklearn\\cluster\\_agglomerative.py:983: FutureWarning: Attribute `affinity` was deprecated in version 1.2 and will be removed in 1.4. Use `metric` instead\n",
      "  warnings.warn(\n"
     ]
    }
   ],
   "source": [
    "start = time.time()\n",
    "cl=cluster.fit_predict(np.array(d))\n",
    "end = time.time()"
   ]
  },
  {
   "cell_type": "code",
   "execution_count": 32,
   "id": "324d0501",
   "metadata": {},
   "outputs": [
    {
     "name": "stdout",
     "output_type": "stream",
     "text": [
      "Время выполнения программы: 7.000923156738281 ms\n"
     ]
    }
   ],
   "source": [
    "print(\"Время выполнения программы:\",\n",
    "      (end-start) * 10**3, \"ms\")"
   ]
  },
  {
   "cell_type": "markdown",
   "id": "5147b5c0",
   "metadata": {},
   "source": [
    "Для сравнения результатов используем матрицу сопряжённости:"
   ]
  },
  {
   "cell_type": "code",
   "execution_count": 33,
   "id": "09ded197",
   "metadata": {},
   "outputs": [
    {
     "data": {
      "text/html": [
       "<div>\n",
       "<style scoped>\n",
       "    .dataframe tbody tr th:only-of-type {\n",
       "        vertical-align: middle;\n",
       "    }\n",
       "\n",
       "    .dataframe tbody tr th {\n",
       "        vertical-align: top;\n",
       "    }\n",
       "\n",
       "    .dataframe thead th {\n",
       "        text-align: right;\n",
       "    }\n",
       "</style>\n",
       "<table border=\"1\" class=\"dataframe\">\n",
       "  <thead>\n",
       "    <tr style=\"text-align: right;\">\n",
       "      <th></th>\n",
       "      <th>Cluster 0</th>\n",
       "      <th>Cluster 1</th>\n",
       "      <th>Cluster 2</th>\n",
       "    </tr>\n",
       "  </thead>\n",
       "  <tbody>\n",
       "    <tr>\n",
       "      <th>Cluster 0</th>\n",
       "      <td>69</td>\n",
       "      <td>0</td>\n",
       "      <td>0</td>\n",
       "    </tr>\n",
       "    <tr>\n",
       "      <th>Cluster 1</th>\n",
       "      <td>0</td>\n",
       "      <td>58</td>\n",
       "      <td>0</td>\n",
       "    </tr>\n",
       "    <tr>\n",
       "      <th>Cluster 2</th>\n",
       "      <td>0</td>\n",
       "      <td>0</td>\n",
       "      <td>51</td>\n",
       "    </tr>\n",
       "  </tbody>\n",
       "</table>\n",
       "</div>"
      ],
      "text/plain": [
       "           Cluster 0  Cluster 1  Cluster 2\n",
       "Cluster 0         69          0          0\n",
       "Cluster 1          0         58          0\n",
       "Cluster 2          0          0         51"
      ]
     },
     "execution_count": 33,
     "metadata": {},
     "output_type": "execute_result"
    }
   ],
   "source": [
    "p=pd.crosstab(index = np.array(hc.predict(3)), columns = cl)\n",
    "p.index = ['Cluster 0', 'Cluster 1','Cluster 2']\n",
    "p.columns = [ 'Cluster 0', 'Cluster 1','Cluster 2']\n",
    "p"
   ]
  },
  {
   "cell_type": "markdown",
   "id": "40beb3f4",
   "metadata": {},
   "source": [
    "Результаты аналогичны, однако время выполнения реализации написанного алгоритма явно больше эталонного"
   ]
  },
  {
   "cell_type": "markdown",
   "id": "b707956c",
   "metadata": {},
   "source": [
    "Сравним построение дендрограммы с эталонной:"
   ]
  },
  {
   "cell_type": "code",
   "execution_count": 154,
   "id": "77c7a8c7",
   "metadata": {},
   "outputs": [],
   "source": [
    "#from scipy.cluster import hierarchy\n",
    "#Z = hierarchy.linkage(d, 'complete')\n",
    "#plt.figure()\n",
    "#dn = hierarchy.dendrogram(Z)"
   ]
  },
  {
   "cell_type": "markdown",
   "id": "de7f312c",
   "metadata": {},
   "source": [
    "Результаты абсолютно аналогичны"
   ]
  },
  {
   "cell_type": "markdown",
   "id": "0941e6be",
   "metadata": {},
   "source": [
    "Рассмотрим метрики кластеризации:"
   ]
  },
  {
   "cell_type": "code",
   "execution_count": 36,
   "id": "0700f581",
   "metadata": {},
   "outputs": [
    {
     "name": "stdout",
     "output_type": "stream",
     "text": [
      "Среднее межкластерное расстояние: 9.712871729132731\n",
      "Средние внутрикластерные расстояния: [3.625646917404642, 3.0903368397166036, 3.1707508867330927]\n"
     ]
    }
   ],
   "source": [
    "print('Среднее межкластерное расстояние:', hc.show_average_between_clusters(3))\n",
    "print('Средние внутрикластерные расстояния:', hc.show_average_inside_clusters(3))"
   ]
  },
  {
   "cell_type": "markdown",
   "id": "1eabccee",
   "metadata": {},
   "source": [
    "Поскольку результаты аналогичны, то метрики на эталонной реализации будут точно такими же"
   ]
  },
  {
   "cell_type": "markdown",
   "id": "67bfeb52",
   "metadata": {},
   "source": [
    "## Иерархическая кластеризация для второго датасета"
   ]
  },
  {
   "cell_type": "code",
   "execution_count": 136,
   "id": "837198a5",
   "metadata": {},
   "outputs": [],
   "source": [
    "h=Hierarchical_clusterer()"
   ]
  },
  {
   "cell_type": "code",
   "execution_count": 138,
   "id": "862695f0",
   "metadata": {},
   "outputs": [],
   "source": [
    "start = time.time()\n",
    "h.fit(custs) #Обучение\n",
    "end = time.time()"
   ]
  },
  {
   "cell_type": "code",
   "execution_count": 139,
   "id": "3180d3b6",
   "metadata": {},
   "outputs": [
    {
     "name": "stdout",
     "output_type": "stream",
     "text": [
      "Время выполнения программы: 94596.80271148682 ms\n"
     ]
    }
   ],
   "source": [
    "print(\"Время выполнения программы:\",\n",
    "      (end-start) * 10**3, \"ms\")"
   ]
  },
  {
   "cell_type": "code",
   "execution_count": 158,
   "id": "c7380884",
   "metadata": {},
   "outputs": [],
   "source": [
    "#h.draw_dendrogram()"
   ]
  },
  {
   "cell_type": "markdown",
   "id": "22da3321",
   "metadata": {},
   "source": [
    "Действительно, здесь четко прослеживаются 3 кластера, именно столько кластеров мы и оставим"
   ]
  },
  {
   "cell_type": "markdown",
   "id": "e2f98c79",
   "metadata": {},
   "source": [
    "Теперь проверим эталонную реализацию"
   ]
  },
  {
   "cell_type": "code",
   "execution_count": 42,
   "id": "af5df061",
   "metadata": {},
   "outputs": [],
   "source": [
    "с=standartize_data(custs)\n",
    "cluster = AgglomerativeClustering(n_clusters=3, affinity='euclidean', linkage='complete',compute_distances=True)"
   ]
  },
  {
   "cell_type": "code",
   "execution_count": 43,
   "id": "0fee4240",
   "metadata": {},
   "outputs": [
    {
     "name": "stderr",
     "output_type": "stream",
     "text": [
      "C:\\Users\\ilabu\\anaconda3\\lib\\site-packages\\sklearn\\cluster\\_agglomerative.py:983: FutureWarning: Attribute `affinity` was deprecated in version 1.2 and will be removed in 1.4. Use `metric` instead\n",
      "  warnings.warn(\n"
     ]
    }
   ],
   "source": [
    "start = time.time()\n",
    "cl=cluster.fit_predict(np.array(c))\n",
    "end = time.time()"
   ]
  },
  {
   "cell_type": "code",
   "execution_count": 44,
   "id": "58461477",
   "metadata": {},
   "outputs": [
    {
     "name": "stdout",
     "output_type": "stream",
     "text": [
      "Время выполнения программы: 11.998176574707031 ms\n"
     ]
    }
   ],
   "source": [
    "print(\"Время выполнения программы:\",\n",
    "      (end-start) * 10**3, \"ms\")"
   ]
  },
  {
   "cell_type": "markdown",
   "id": "f8f50d68",
   "metadata": {},
   "source": [
    "Построим матрицу сопряженности:"
   ]
  },
  {
   "cell_type": "code",
   "execution_count": 45,
   "id": "50879a1d",
   "metadata": {},
   "outputs": [
    {
     "data": {
      "text/html": [
       "<div>\n",
       "<style scoped>\n",
       "    .dataframe tbody tr th:only-of-type {\n",
       "        vertical-align: middle;\n",
       "    }\n",
       "\n",
       "    .dataframe tbody tr th {\n",
       "        vertical-align: top;\n",
       "    }\n",
       "\n",
       "    .dataframe thead th {\n",
       "        text-align: right;\n",
       "    }\n",
       "</style>\n",
       "<table border=\"1\" class=\"dataframe\">\n",
       "  <thead>\n",
       "    <tr style=\"text-align: right;\">\n",
       "      <th></th>\n",
       "      <th>Cluster 0</th>\n",
       "      <th>Cluster 1</th>\n",
       "      <th>Cluster 2</th>\n",
       "    </tr>\n",
       "  </thead>\n",
       "  <tbody>\n",
       "    <tr>\n",
       "      <th>Cluster 0</th>\n",
       "      <td>388</td>\n",
       "      <td>0</td>\n",
       "      <td>0</td>\n",
       "    </tr>\n",
       "    <tr>\n",
       "      <th>Cluster 1</th>\n",
       "      <td>9</td>\n",
       "      <td>0</td>\n",
       "      <td>213</td>\n",
       "    </tr>\n",
       "    <tr>\n",
       "      <th>Cluster 2</th>\n",
       "      <td>0</td>\n",
       "      <td>50</td>\n",
       "      <td>0</td>\n",
       "    </tr>\n",
       "  </tbody>\n",
       "</table>\n",
       "</div>"
      ],
      "text/plain": [
       "           Cluster 0  Cluster 1  Cluster 2\n",
       "Cluster 0        388          0          0\n",
       "Cluster 1          9          0        213\n",
       "Cluster 2          0         50          0"
      ]
     },
     "execution_count": 45,
     "metadata": {},
     "output_type": "execute_result"
    }
   ],
   "source": [
    "p=pd.crosstab(index = np.array(h.predict(3)), columns = cl)\n",
    "p.index = ['Cluster 0', 'Cluster 1','Cluster 2']\n",
    "p.columns = [ 'Cluster 0', 'Cluster 1','Cluster 2']\n",
    "p"
   ]
  },
  {
   "cell_type": "markdown",
   "id": "7750261b",
   "metadata": {},
   "source": [
    "Результаты практически идентичны"
   ]
  },
  {
   "cell_type": "markdown",
   "id": "6bae3a8c",
   "metadata": {},
   "source": [
    "Посмотрим метрики для написанной реализации:"
   ]
  },
  {
   "cell_type": "code",
   "execution_count": 46,
   "id": "5c48328b",
   "metadata": {},
   "outputs": [
    {
     "name": "stdout",
     "output_type": "stream",
     "text": [
      "Среднее межкластерное расстояние: 6.474273828543971\n"
     ]
    }
   ],
   "source": [
    "print('Среднее межкластерное расстояние:', h.show_average_between_clusters(3))"
   ]
  },
  {
   "cell_type": "code",
   "execution_count": 47,
   "id": "96b76d5a",
   "metadata": {},
   "outputs": [
    {
     "name": "stdout",
     "output_type": "stream",
     "text": [
      "Средние внутрикластерные расстояния: [2.3110787590392605, 1.530014398665294, 1.9736801481099981]\n"
     ]
    }
   ],
   "source": [
    "print('Средние внутрикластерные расстояния:', h.show_average_inside_clusters(3))"
   ]
  },
  {
   "cell_type": "markdown",
   "id": "c2e32a16",
   "metadata": {},
   "source": [
    "Метрики для эталонной реализации:"
   ]
  },
  {
   "cell_type": "code",
   "execution_count": 52,
   "id": "1dd80eb3",
   "metadata": {},
   "outputs": [
    {
     "name": "stdout",
     "output_type": "stream",
     "text": [
      "Среднее межкластерное расстояние: 7.4920302619697425\n"
     ]
    }
   ],
   "source": [
    "cl_indexes=[]\n",
    "dists=np.array([])\n",
    "for cl_a in np.unique(np.array(cl)):\n",
    "    cl_indexes.append(np.where(np.array(cl)==cl_a))\n",
    "for i in range(len(cl_indexes)):\n",
    "    for j in range(i+1, len(cl_indexes)):\n",
    "        dists=np.append(dists,max_n_em(cl_indexes,c,i,j))\n",
    "print('Среднее межкластерное расстояние:', np.mean(dists))"
   ]
  },
  {
   "cell_type": "code",
   "execution_count": 53,
   "id": "fddc6903",
   "metadata": {},
   "outputs": [
    {
     "name": "stdout",
     "output_type": "stream",
     "text": [
      "Средние внутрикластерные расстояния: [2.3241222  1.97368015 1.53283173]\n"
     ]
    }
   ],
   "source": [
    "cl_indexes=[]\n",
    "dists=np.array([])\n",
    "for cl_a in np.unique(np.array(cl)):\n",
    "    cl_indexes.append(np.where(np.array(cl)==cl_a)[0])\n",
    "for cl_a in cl_indexes:\n",
    "    ds=np.array([])\n",
    "    for i in range(cl_a.shape[0]):\n",
    "        for j in range(i+1, cl_a.shape[0]):\n",
    "            ds=np.append(ds,euclide(c[i],c[j]))\n",
    "    dists=np.append(dists, np.mean(ds))\n",
    "print('Средние внутрикластерные расстояния:', dists)  "
   ]
  },
  {
   "cell_type": "markdown",
   "id": "a9db8ded",
   "metadata": {},
   "source": [
    "Несмотря на то, что скорость реализации эталонного алгоритма намного выше, чем у написанного, остальные метрики у написанного алгоритма лучше"
   ]
  },
  {
   "cell_type": "markdown",
   "id": "22e285b3",
   "metadata": {},
   "source": [
    "# EM-кластеризация"
   ]
  },
  {
   "cell_type": "markdown",
   "id": "317c1083",
   "metadata": {},
   "source": [
    "Вспомогательные функции:"
   ]
  },
  {
   "cell_type": "code",
   "execution_count": 31,
   "id": "a3496618",
   "metadata": {},
   "outputs": [],
   "source": [
    "def max_n_em(A,data, i_1,i_2):#Метод дальнего соседа для расчёта среднего межкластерного расстояния\n",
    "    m=-1\n",
    "    for i in A[i_1][0]:\n",
    "        for j in A[i_2][0]:\n",
    "            t=euclide(data[i],data[j])\n",
    "            if m<t:\n",
    "                m=t\n",
    "    return m\n",
    "\n",
    "def standartize_data(data):\n",
    "    d=(data-data.mean())/data.std()\n",
    "    return d.to_numpy()"
   ]
  },
  {
   "cell_type": "markdown",
   "id": "0d53e66d",
   "metadata": {},
   "source": [
    "Класс, реализующий EM-кластеризацию:"
   ]
  },
  {
   "cell_type": "code",
   "execution_count": 57,
   "id": "869e456e",
   "metadata": {},
   "outputs": [],
   "source": [
    "class EM_clusterer():\n",
    "    clusts=[]\n",
    "    f=0#Минимальная схожесть разбиений\n",
    "    mu_s=np.array([])#Средние кластеров\n",
    "    matrix_s=np.array([])#Матрицы ковариаций\n",
    "    w=np.array([])#Вектор весов\n",
    "    g=np.array([])\n",
    "    d=np.array([])\n",
    "    def ro(self, x, m):#Расчёт расстояния от точки до центра кластера\n",
    "        return np.sum(np.power(x-self.mu_s[m],2)*np.square(self.matrix_s[m]))\n",
    "    \n",
    "    def probability(self,x,m):#Расчёт вероятности принадлежности точки к кластеру\n",
    "        return np.power(2*np.pi, -x.shape[0]/2)*1/np.linalg.det(self.matrix_s[m])*np.exp(-(1/2)*self.ro(x,m))\n",
    "    \n",
    "    def init_parameters(self, n_clusters,size):\n",
    "        self.mu_s=np.random.normal(0,1,size=(n_clusters,size[1]))/5#Инициализация средних\n",
    "        self.matrix_s=[np.diag(np.ones(size[1])) for i in range(n_clusters)]#Инициализация матрицы ковариаций\n",
    "        self.g=np.zeros((size[0],n_clusters))#Инициализация матрицы вероятностей\n",
    "        self.clusts=np.ones(size[0])#Инициализация вектора принадлежности кластерам\n",
    "        self.w=np.ones(n_clusters)/n_clusters\n",
    "        \n",
    "    def fit(self, X, n_clusters, min_match=0.95, max_iters=100):\n",
    "        self.d=standartize_data(X)\n",
    "        self.init_parameters(n_clusters, self.d.shape)\n",
    "        for step in range(max_iters):\n",
    "        #E-шаг\n",
    "            for j in range(self.d.shape[0]):\n",
    "                g_j=np.array([])\n",
    "                for i in range(n_clusters):\n",
    "                    g_j=np.append(g_j, self.w[i]*self.probability(self.d[j,:],i))\n",
    "                self.g[j,:]=g_j/np.sum(g_j)\n",
    "            groups_new=np.argmax(self.g,axis=1)\n",
    "            self.f=np.sum(groups_new==self.clusts)/self.clusts.shape[0]\n",
    "            self.clusts=groups_new\n",
    "        #M-шаг\n",
    "            self.w=np.mean(self.g, axis=0)#Обновление весов\n",
    "            for i in range(n_clusters):\n",
    "                for j in range(self.d.shape[1]):\n",
    "                    self.mu_s[i,j]=np.mean(self.g[:,i]*self.d[:,j])/self.w[i] #Обновление средних\n",
    "            for i in range(n_clusters):\n",
    "                for j in range(self.d.shape[1]):\n",
    "                    self.matrix_s[i][j,j]=np.sqrt(np.mean(np.square(self.d[:,j]-self.mu_s[i,j])*self.g[:,i])/self.w[i])#Обновление матрицы ковариаций\n",
    "            if self.f>min_match:\n",
    "                break\n",
    "\n",
    "    def predict_probabilities(self):#Возвращение вероятностей принадлежности точек к кластерам\n",
    "        return self.g\n",
    "    \n",
    "    def predict_strict(self):#Жётский вариант кластеризации\n",
    "        return self.clusts\n",
    "    \n",
    "    def average_between_clusters(self):#Расчёт среднего межкластерного расстояния\n",
    "        cl_indexes=[]\n",
    "        dists=np.array([])\n",
    "        for cl in np.unique(self.clusts):\n",
    "            cl_indexes.append(np.where(self.clusts==cl))\n",
    "        for i in range(len(cl_indexes)):\n",
    "            for j in range(i+1, len(cl_indexes)):\n",
    "                dists=np.append(dists,max_n_em(cl_indexes,self.d,i,j)) \n",
    "        return np.mean(dists)\n",
    "    def average_inside_clusters(self):#Расчёт среднего внутрикластерного расстояния\n",
    "        cl_indexes=[]\n",
    "        dists=np.array([])\n",
    "        for cl in np.unique(self.clusts):\n",
    "            cl_indexes.append(np.where(self.clusts==cl)[0])\n",
    "        for cl in cl_indexes:\n",
    "            ds=np.array([])\n",
    "            for i in range(cl.shape[0]):\n",
    "                for j in range(i+1, cl.shape[0]):\n",
    "                    ds=np.append(ds,euclide(self.d[i],self.d[j]))\n",
    "            dists=np.append(dists, np.mean(ds))\n",
    "        return dists"
   ]
  },
  {
   "cell_type": "markdown",
   "id": "8df6a676",
   "metadata": {},
   "source": [
    "## Проведение кластеризации на 1 датасете:"
   ]
  },
  {
   "cell_type": "code",
   "execution_count": 58,
   "id": "9b70c2dc",
   "metadata": {},
   "outputs": [],
   "source": [
    "em=EM_clusterer()"
   ]
  },
  {
   "cell_type": "code",
   "execution_count": 78,
   "id": "15b1220d",
   "metadata": {},
   "outputs": [],
   "source": [
    "start = time.time()\n",
    "em.fit(wine,3, min_match=1)\n",
    "end = time.time()"
   ]
  },
  {
   "cell_type": "code",
   "execution_count": 72,
   "id": "08e8456b",
   "metadata": {},
   "outputs": [
    {
     "name": "stdout",
     "output_type": "stream",
     "text": [
      "Время выполнения программы: 2318.0007934570312 ms\n"
     ]
    }
   ],
   "source": [
    "print(\"Время выполнения программы:\",\n",
    "      (end-start) * 10**3, \"ms\")"
   ]
  },
  {
   "cell_type": "markdown",
   "id": "85b22349",
   "metadata": {},
   "source": [
    "Сравним результаты с эталонной реализацией:"
   ]
  },
  {
   "cell_type": "code",
   "execution_count": 73,
   "id": "8274846a",
   "metadata": {},
   "outputs": [],
   "source": [
    "from sklearn.mixture import GaussianMixture"
   ]
  },
  {
   "cell_type": "code",
   "execution_count": 74,
   "id": "e086e334",
   "metadata": {},
   "outputs": [],
   "source": [
    "X = standartize_data(wine)"
   ]
  },
  {
   "cell_type": "code",
   "execution_count": 75,
   "id": "3cfed39a",
   "metadata": {},
   "outputs": [
    {
     "name": "stderr",
     "output_type": "stream",
     "text": [
      "C:\\Users\\ilabu\\anaconda3\\lib\\site-packages\\sklearn\\cluster\\_kmeans.py:1382: UserWarning: KMeans is known to have a memory leak on Windows with MKL, when there are less chunks than available threads. You can avoid it by setting the environment variable OMP_NUM_THREADS=1.\n",
      "  warnings.warn(\n"
     ]
    }
   ],
   "source": [
    "start = time.time()\n",
    "gm = GaussianMixture(n_components=3, random_state=0).fit_predict(X)\n",
    "end = time.time()"
   ]
  },
  {
   "cell_type": "code",
   "execution_count": 76,
   "id": "6cb8bf23",
   "metadata": {},
   "outputs": [
    {
     "name": "stdout",
     "output_type": "stream",
     "text": [
      "Время выполнения программы: 100.99196434020996 ms\n"
     ]
    }
   ],
   "source": [
    "print(\"Время выполнения программы:\",\n",
    "      (end-start) * 10**3, \"ms\")"
   ]
  },
  {
   "cell_type": "markdown",
   "id": "c6dff76a",
   "metadata": {},
   "source": [
    "Построим таблицу сопряженности результатов:"
   ]
  },
  {
   "cell_type": "code",
   "execution_count": 80,
   "id": "0aaa9753",
   "metadata": {},
   "outputs": [
    {
     "data": {
      "text/html": [
       "<div>\n",
       "<style scoped>\n",
       "    .dataframe tbody tr th:only-of-type {\n",
       "        vertical-align: middle;\n",
       "    }\n",
       "\n",
       "    .dataframe tbody tr th {\n",
       "        vertical-align: top;\n",
       "    }\n",
       "\n",
       "    .dataframe thead th {\n",
       "        text-align: right;\n",
       "    }\n",
       "</style>\n",
       "<table border=\"1\" class=\"dataframe\">\n",
       "  <thead>\n",
       "    <tr style=\"text-align: right;\">\n",
       "      <th></th>\n",
       "      <th>Cluster 0</th>\n",
       "      <th>Cluster 1</th>\n",
       "      <th>Cluster 2</th>\n",
       "    </tr>\n",
       "  </thead>\n",
       "  <tbody>\n",
       "    <tr>\n",
       "      <th>Cluster 0</th>\n",
       "      <td>48</td>\n",
       "      <td>6</td>\n",
       "      <td>0</td>\n",
       "    </tr>\n",
       "    <tr>\n",
       "      <th>Cluster 1</th>\n",
       "      <td>3</td>\n",
       "      <td>45</td>\n",
       "      <td>63</td>\n",
       "    </tr>\n",
       "    <tr>\n",
       "      <th>Cluster 2</th>\n",
       "      <td>0</td>\n",
       "      <td>13</td>\n",
       "      <td>0</td>\n",
       "    </tr>\n",
       "  </tbody>\n",
       "</table>\n",
       "</div>"
      ],
      "text/plain": [
       "           Cluster 0  Cluster 1  Cluster 2\n",
       "Cluster 0         48          6          0\n",
       "Cluster 1          3         45         63\n",
       "Cluster 2          0         13          0"
      ]
     },
     "execution_count": 80,
     "metadata": {},
     "output_type": "execute_result"
    }
   ],
   "source": [
    "p=pd.crosstab(index = em.predict_strict(), columns = gm)\n",
    "p.index = ['Cluster 0', 'Cluster 1', 'Cluster 2']\n",
    "p.columns = ['Cluster 0', 'Cluster 1', 'Cluster 2']\n",
    "p"
   ]
  },
  {
   "cell_type": "markdown",
   "id": "8f043039",
   "metadata": {},
   "source": [
    "Как можно заметить, один из кластеров практически совпал, тогда как другие оказались разными. Алгоритм очень зависит от инициализации центров, определяющихся рандомно, поэтому результаты каждый запуск будут отличаться"
   ]
  },
  {
   "cell_type": "markdown",
   "id": "cca8bee0",
   "metadata": {},
   "source": [
    "Найдём средние межкластерные и внутрикластерные расстояния для написанного алгоритма:"
   ]
  },
  {
   "cell_type": "code",
   "execution_count": 104,
   "id": "5608cb26",
   "metadata": {},
   "outputs": [
    {
     "name": "stdout",
     "output_type": "stream",
     "text": [
      "Средние межкластерные расстояния: 8.498382176342544\n",
      "Средние внутрикластерные расстояния: [3.14546168 4.32456618 2.93273935]\n"
     ]
    }
   ],
   "source": [
    "print('Средние межкластерные расстояния:', em.average_between_clusters())\n",
    "print('Средние внутрикластерные расстояния:',em.average_inside_clusters())"
   ]
  },
  {
   "cell_type": "markdown",
   "id": "50e7206f",
   "metadata": {},
   "source": [
    "Посчитаем эти метрики для эталонной реализации:"
   ]
  },
  {
   "cell_type": "code",
   "execution_count": 82,
   "id": "808d3912",
   "metadata": {},
   "outputs": [
    {
     "name": "stdout",
     "output_type": "stream",
     "text": [
      "Среднее межкластерное расстояние: 9.724374970057594\n"
     ]
    }
   ],
   "source": [
    "cl_indexes=[]\n",
    "dists=np.array([])\n",
    "for cl in np.unique(gm):\n",
    "    cl_indexes.append(np.where(gm==cl))\n",
    "for i in range(len(cl_indexes)):\n",
    "      for j in range(i+1, len(cl_indexes)):\n",
    "            dists=np.append(dists,max_n_em(cl_indexes,X,i,j)) \n",
    "print('Среднее межкластерное расстояние:', np.mean(dists))"
   ]
  },
  {
   "cell_type": "code",
   "execution_count": 83,
   "id": "7a7e325e",
   "metadata": {},
   "outputs": [
    {
     "name": "stdout",
     "output_type": "stream",
     "text": [
      "Средние внутрикластерные расстояния: [3.17075089 3.45354344 3.42258941]\n"
     ]
    }
   ],
   "source": [
    "cl_indexes=[]\n",
    "dists=np.array([])\n",
    "for cl in np.unique(gm):\n",
    "    cl_indexes.append(np.where(gm==cl)[0])\n",
    "for cl in cl_indexes:\n",
    "    ds=np.array([])\n",
    "    for i in range(cl.shape[0]):\n",
    "        for j in range(i+1, cl.shape[0]):\n",
    "             ds=np.append(ds,euclide(X[i],X[j]))\n",
    "    dists=np.append(dists, np.mean(ds))\n",
    "print('Средние внутрикластерные расстояния:', dists)  "
   ]
  },
  {
   "cell_type": "markdown",
   "id": "54fedaa5",
   "metadata": {},
   "source": [
    "Именно для данного прогона модели среднее межкластерное расстояние на написанном алгоритме оказалось меньше, чем на эталонном. Средние внутрикластерные расстояния оказались примерно одинаковыми. Время выполнения эталонного алгоритма снова оказалось намного меньше, чем написанного"
   ]
  },
  {
   "cell_type": "markdown",
   "id": "d6027fa9",
   "metadata": {},
   "source": [
    "## Кластеризация 2 датасета:"
   ]
  },
  {
   "cell_type": "code",
   "execution_count": 84,
   "id": "b4557ffc",
   "metadata": {},
   "outputs": [],
   "source": [
    "em_2=EM_clusterer()"
   ]
  },
  {
   "cell_type": "code",
   "execution_count": 96,
   "id": "c9fb3e96",
   "metadata": {},
   "outputs": [],
   "source": [
    "start = time.time()\n",
    "em_2.fit(custs,3, min_match=1)\n",
    "end = time.time()"
   ]
  },
  {
   "cell_type": "code",
   "execution_count": 97,
   "id": "f6d70f46",
   "metadata": {},
   "outputs": [
    {
     "name": "stdout",
     "output_type": "stream",
     "text": [
      "Время выполнения программы: 8807.732343673706 ms\n"
     ]
    }
   ],
   "source": [
    "print(\"Время выполнения программы:\",\n",
    "      (end-start) * 10**3, \"ms\")"
   ]
  },
  {
   "cell_type": "code",
   "execution_count": 99,
   "id": "751e5530",
   "metadata": {},
   "outputs": [],
   "source": [
    "X = standartize_data(custs)"
   ]
  },
  {
   "cell_type": "code",
   "execution_count": 100,
   "id": "554b82be",
   "metadata": {},
   "outputs": [
    {
     "name": "stderr",
     "output_type": "stream",
     "text": [
      "C:\\Users\\ilabu\\anaconda3\\lib\\site-packages\\sklearn\\cluster\\_kmeans.py:1382: UserWarning: KMeans is known to have a memory leak on Windows with MKL, when there are less chunks than available threads. You can avoid it by setting the environment variable OMP_NUM_THREADS=3.\n",
      "  warnings.warn(\n"
     ]
    }
   ],
   "source": [
    "start = time.time()\n",
    "gm = GaussianMixture(n_components=3, random_state=0).fit_predict(X)\n",
    "end = time.time()"
   ]
  },
  {
   "cell_type": "code",
   "execution_count": 101,
   "id": "f9950796",
   "metadata": {},
   "outputs": [
    {
     "name": "stdout",
     "output_type": "stream",
     "text": [
      "Время выполнения программы: 102.99873352050781 ms\n"
     ]
    }
   ],
   "source": [
    "print(\"Время выполнения программы:\",\n",
    "      (end-start) * 10**3, \"ms\")"
   ]
  },
  {
   "cell_type": "code",
   "execution_count": 103,
   "id": "5dfbac7c",
   "metadata": {},
   "outputs": [
    {
     "data": {
      "text/html": [
       "<div>\n",
       "<style scoped>\n",
       "    .dataframe tbody tr th:only-of-type {\n",
       "        vertical-align: middle;\n",
       "    }\n",
       "\n",
       "    .dataframe tbody tr th {\n",
       "        vertical-align: top;\n",
       "    }\n",
       "\n",
       "    .dataframe thead th {\n",
       "        text-align: right;\n",
       "    }\n",
       "</style>\n",
       "<table border=\"1\" class=\"dataframe\">\n",
       "  <thead>\n",
       "    <tr style=\"text-align: right;\">\n",
       "      <th></th>\n",
       "      <th>Cluster 0</th>\n",
       "      <th>Cluster 1</th>\n",
       "      <th>Cluster 2</th>\n",
       "    </tr>\n",
       "  </thead>\n",
       "  <tbody>\n",
       "    <tr>\n",
       "      <th>Cluster 0</th>\n",
       "      <td>0</td>\n",
       "      <td>221</td>\n",
       "      <td>0</td>\n",
       "    </tr>\n",
       "    <tr>\n",
       "      <th>Cluster 1</th>\n",
       "      <td>386</td>\n",
       "      <td>3</td>\n",
       "      <td>1</td>\n",
       "    </tr>\n",
       "    <tr>\n",
       "      <th>Cluster 2</th>\n",
       "      <td>0</td>\n",
       "      <td>0</td>\n",
       "      <td>49</td>\n",
       "    </tr>\n",
       "  </tbody>\n",
       "</table>\n",
       "</div>"
      ],
      "text/plain": [
       "           Cluster 0  Cluster 1  Cluster 2\n",
       "Cluster 0          0        221          0\n",
       "Cluster 1        386          3          1\n",
       "Cluster 2          0          0         49"
      ]
     },
     "execution_count": 103,
     "metadata": {},
     "output_type": "execute_result"
    }
   ],
   "source": [
    "p=pd.crosstab(index = em_2.predict_strict(), columns = gm)\n",
    "p.index = ['Cluster 0', 'Cluster 1', 'Cluster 2']\n",
    "p.columns = ['Cluster 0', 'Cluster 1', 'Cluster 2']\n",
    "p"
   ]
  },
  {
   "cell_type": "markdown",
   "id": "4b43dcfa",
   "metadata": {},
   "source": [
    "В данном случае разбиения практически идентичны. Посчитаем остальные метрики:"
   ]
  },
  {
   "cell_type": "code",
   "execution_count": 105,
   "id": "d5008751",
   "metadata": {},
   "outputs": [
    {
     "name": "stdout",
     "output_type": "stream",
     "text": [
      "Средние межкластерные расстояния: 7.4920302619697425\n",
      "Средние внутрикластерные расстояния: [1.53127175 2.3127098  1.98613895]\n"
     ]
    }
   ],
   "source": [
    "print('Средние межкластерные расстояния:', em_2.average_between_clusters())\n",
    "print('Средние внутрикластерные расстояния:',em_2.average_inside_clusters())"
   ]
  },
  {
   "cell_type": "markdown",
   "id": "a2ad98ad",
   "metadata": {},
   "source": [
    "Метрики для эталонной реализации:"
   ]
  },
  {
   "cell_type": "code",
   "execution_count": 106,
   "id": "925e6def",
   "metadata": {},
   "outputs": [
    {
     "name": "stdout",
     "output_type": "stream",
     "text": [
      "Среднее межкластерное расстояние: 7.4920302619697425\n"
     ]
    }
   ],
   "source": [
    "cl_indexes=[]\n",
    "dists=np.array([])\n",
    "for cl in np.unique(gm):\n",
    "    cl_indexes.append(np.where(gm==cl))\n",
    "for i in range(len(cl_indexes)):\n",
    "      for j in range(i+1, len(cl_indexes)):\n",
    "            dists=np.append(dists,max_n_em(cl_indexes,X,i,j)) \n",
    "print('Среднее межкластерное расстояние:', np.mean(dists))"
   ]
  },
  {
   "cell_type": "code",
   "execution_count": 107,
   "id": "ed95b149",
   "metadata": {},
   "outputs": [
    {
     "name": "stdout",
     "output_type": "stream",
     "text": [
      "Средние внутрикластерные расстояния: [2.31190597 1.53281042 1.97368015]\n"
     ]
    }
   ],
   "source": [
    "cl_indexes=[]\n",
    "dists=np.array([])\n",
    "for cl in np.unique(gm):\n",
    "    cl_indexes.append(np.where(gm==cl)[0])\n",
    "for cl in cl_indexes:\n",
    "    ds=np.array([])\n",
    "    for i in range(cl.shape[0]):\n",
    "        for j in range(i+1, cl.shape[0]):\n",
    "             ds=np.append(ds,euclide(X[i],X[j]))\n",
    "    dists=np.append(dists, np.mean(ds))\n",
    "print('Средние внутрикластерные расстояния:', dists) "
   ]
  },
  {
   "cell_type": "markdown",
   "id": "60484e9d",
   "metadata": {},
   "source": [
    "Средние расстояния в данном случае практически не отличаются, но время отработки эталонного алгоритма снова сильно меньше, чем у написанного"
   ]
  },
  {
   "cell_type": "markdown",
   "id": "69108133",
   "metadata": {},
   "source": [
    "# DBSCAN"
   ]
  },
  {
   "cell_type": "markdown",
   "id": "e7f84d16",
   "metadata": {},
   "source": [
    "Вспомогательные функции:"
   ]
  },
  {
   "cell_type": "code",
   "execution_count": 22,
   "id": "bb596754",
   "metadata": {},
   "outputs": [],
   "source": [
    "def standartize_data(data):\n",
    "    d=(data-data.mean())/data.std()\n",
    "    return d.to_numpy()\n",
    "\n",
    "def make_matrix(d):#Создание матрицы расстояний\n",
    "    A=np.diag(np.ones(d.shape[0])*np.inf)\n",
    "    for i in range(d.shape[0]):\n",
    "        for j in range(i+1, d.shape[0]):\n",
    "                A[i,j]=euclide(d[i],d[j])\n",
    "                A[j,i]=A[i,j]\n",
    "    return A\n",
    "\n",
    "def remake_matrix(A,cl):#Пересчёт матрицы расстояний при изменении кластерного состава\n",
    "    for i in cl:\n",
    "        A[cl,:],A[:,cl]=np.inf,np.inf\n",
    "    return A"
   ]
  },
  {
   "cell_type": "markdown",
   "id": "1c0dc6be",
   "metadata": {},
   "source": [
    "Класс, реализующий кластеризацию:"
   ]
  },
  {
   "cell_type": "code",
   "execution_count": 23,
   "id": "a6820938",
   "metadata": {},
   "outputs": [],
   "source": [
    "class DBSCAN_clusterer():\n",
    "    dic={}\n",
    "    predictions=[]\n",
    "    def init_dict(self,d):\n",
    "        for i in range(d.shape[0]):\n",
    "            self.dic[i]=[0,0]\n",
    "            \n",
    "    def fit_predict(self,data, eps, m):#Обучение и предсказание\n",
    "        d=standartize_data(data)#Стандарта=изация данных\n",
    "        self.init_dict(d)#Создание словаря \"Объект:[кластер, тип точки]\"\n",
    "        U=np.arange(d.shape[0])#Создание множества U\n",
    "        A=make_matrix(d)#Создание матрицы расстояний\n",
    "        clusters_count=0\n",
    "        while len(U)>0:#Пока U непустое\n",
    "            Ux=np.where(A[U[0]]<eps)[0]#Поиск всех точек в eps-окрестности\n",
    "            if len(Ux)>=m:#Если таких точек больше, чем m\n",
    "                cl=np.array([U[0]])#Создание кластера\n",
    "                self.dic.get(U[0])[0],self.dic.get(U[0])[1]=clusters_count,2#Обновление словаря\n",
    "                while len(Ux)>0:#Бежим по всем граничным точкам\n",
    "                    el=Ux[0]\n",
    "                    cl=np.append(cl,el)#Добавление точки в кластер\n",
    "                    Ux=np.delete(Ux,0)#Её удаление из граничных\n",
    "                    Ut=np.where(A[el]<eps)[0]#РАсчёт eps-окрестности\n",
    "                    if len(Ut)>=m:#Если точек больше, чем m, то это корневая точка\n",
    "                        self.dic.get(el)[0],self.dic.get(el)[1]=clusters_count,2\n",
    "                        Ux=np.unique(np.append(Ux,Ut))#Пополняем массив граничных точек\n",
    "                        indices=np.argwhere(np.isin(Ux,cl))\n",
    "                        Ux=np.delete(Ux,indices)#Избавление от дубликатов\n",
    "                    else:#Если нет, то оставляем граничной\n",
    "                        self.dic.get(el)[0],self.dic.get(el)[1]=clusters_count,1\n",
    "                U=np.delete(U,np.argwhere(np.isin(U,cl)))#Удаление из множества непомеченных точек всех из кластера\n",
    "                A=remake_matrix(A,cl.astype(int))#Пересчитываем матрицу расстояний, удаляя все точки из кластера\n",
    "                clusters_count+=1\n",
    "            else:#Если это шумовая точка\n",
    "                self.dic.get(U[0])[0]=-1\n",
    "                U=np.delete(U,0)#Удаление из множества непомеченных точек\n",
    "        self.predictions=[self.dic.get(i)[0] for i in range(len(self.dic.keys()))]\n",
    "        return self.predictions\n",
    "    def show_object_types(self):#Возвращаем типа точек\n",
    "        tps=[]\n",
    "        for i in range(len(self.dic.keys())):\n",
    "            if self.dic.get(i)[1]==0:\n",
    "                tps.append('Outlier')\n",
    "            elif self.dic.get(i)[1]==1:\n",
    "                tps.append('Non-core')\n",
    "            else: tps.append('Core')\n",
    "        return tps\n",
    "    def average_between_clusters(self,data):#Расчёт среднего межкластерного расстояния\n",
    "        cl_indexes=[]\n",
    "        dists=np.array([])\n",
    "        for cl in np.unique(np.array(self.predictions)):\n",
    "            cl_indexes.append(np.where(np.array(self.predictions)==cl))\n",
    "        for i in range(len(cl_indexes)):\n",
    "            for j in range(i+1, len(cl_indexes)):\n",
    "                dists=np.append(dists,max_n_em(cl_indexes,standartize_data(data),i,j)) \n",
    "        return np.mean(dists)\n",
    "    def average_inside_clusters(self,data):#Расчёт среднего внутрикластерного расстояния\n",
    "        cl_indexes=[]\n",
    "        dists=np.array([])\n",
    "        for cl in np.unique(np.array(self.predictions)):\n",
    "            cl_indexes.append(np.where(np.array(self.predictions)==cl)[0])\n",
    "        for cl in cl_indexes:\n",
    "            ds=np.array([])\n",
    "            for i in range(cl.shape[0]):\n",
    "                for j in range(i+1, cl.shape[0]):\n",
    "                    ds=np.append(ds,euclide(standartize_data(data)[i],standartize_data(data)[j]))\n",
    "            dists=np.append(dists, np.mean(ds))\n",
    "        return dists[1:]"
   ]
  },
  {
   "cell_type": "markdown",
   "id": "b53de7a1",
   "metadata": {},
   "source": [
    "## Применение DBSCAN для 1 датасета"
   ]
  },
  {
   "cell_type": "code",
   "execution_count": 24,
   "id": "8bf6ba0c",
   "metadata": {},
   "outputs": [],
   "source": [
    "db=DBSCAN_clusterer()"
   ]
  },
  {
   "cell_type": "code",
   "execution_count": 25,
   "id": "d71f4a7b",
   "metadata": {},
   "outputs": [],
   "source": [
    "start = time.time()\n",
    "a=db.fit_predict(wine, 2, 2)\n",
    "end = time.time()"
   ]
  },
  {
   "cell_type": "code",
   "execution_count": 26,
   "id": "d0a09d92",
   "metadata": {},
   "outputs": [
    {
     "name": "stdout",
     "output_type": "stream",
     "text": [
      "Время выполнения программы: 154.62851524353027 ms\n"
     ]
    }
   ],
   "source": [
    "print(\"Время выполнения программы:\",\n",
    "      (end-start) * 10**3, \"ms\")"
   ]
  },
  {
   "cell_type": "markdown",
   "id": "caaed1d4",
   "metadata": {},
   "source": [
    "Сравним  результаты с эталонной реализацией:"
   ]
  },
  {
   "cell_type": "code",
   "execution_count": 27,
   "id": "36f3bfe3",
   "metadata": {
    "scrolled": true
   },
   "outputs": [],
   "source": [
    "from sklearn.cluster import DBSCAN\n",
    "X = standartize_data(wine)"
   ]
  },
  {
   "cell_type": "code",
   "execution_count": 28,
   "id": "ad0b85a4",
   "metadata": {},
   "outputs": [],
   "source": [
    "start = time.time()\n",
    "clustering = DBSCAN(eps=2, min_samples=2).fit(X)\n",
    "end = time.time()"
   ]
  },
  {
   "cell_type": "code",
   "execution_count": 29,
   "id": "0fdb5748",
   "metadata": {},
   "outputs": [
    {
     "name": "stdout",
     "output_type": "stream",
     "text": [
      "Время выполнения программы: 13.99993896484375 ms\n"
     ]
    }
   ],
   "source": [
    "print(\"Время выполнения программы:\",\n",
    "      (end-start) * 10**3, \"ms\")"
   ]
  },
  {
   "cell_type": "code",
   "execution_count": 32,
   "id": "c4e8352f",
   "metadata": {},
   "outputs": [
    {
     "name": "stdout",
     "output_type": "stream",
     "text": [
      "Среднее межкластерное расстояние: 6.761229889543758\n",
      "Средние внутрикластерные расстояния: [3.93939266 3.41484125 3.06570367 3.66845665 3.66845665]\n"
     ]
    }
   ],
   "source": [
    "print('Среднее межкластерное расстояние:', db.average_between_clusters(wine))\n",
    "print('Средние внутрикластерные расстояния:',db.average_inside_clusters(wine))"
   ]
  },
  {
   "cell_type": "markdown",
   "id": "f9dd8178",
   "metadata": {},
   "source": [
    "Среднее межкластерное расстояние для эталонной реализации:"
   ]
  },
  {
   "cell_type": "code",
   "execution_count": 33,
   "id": "d32bb11f",
   "metadata": {},
   "outputs": [
    {
     "name": "stdout",
     "output_type": "stream",
     "text": [
      "Среднее межкластерное расстояние: 6.484571209677369\n"
     ]
    }
   ],
   "source": [
    "cl_indexes=[]\n",
    "dists=np.array([])\n",
    "for cl in np.unique(clustering.labels_):\n",
    "    cl_indexes.append(np.where(clustering.labels_==cl))\n",
    "for i in range(len(cl_indexes)):\n",
    "      for j in range(i+1, len(cl_indexes)):\n",
    "            dists=np.append(dists,max_n_em(cl_indexes,X,i,j)) \n",
    "print('Среднее межкластерное расстояние:', np.mean(dists))"
   ]
  },
  {
   "cell_type": "markdown",
   "id": "faca6f6e",
   "metadata": {},
   "source": [
    "Среднее внутрикластерное расстояние для эталонной реализации:"
   ]
  },
  {
   "cell_type": "code",
   "execution_count": 34,
   "id": "8b1c324a",
   "metadata": {},
   "outputs": [
    {
     "name": "stdout",
     "output_type": "stream",
     "text": [
      "Средние внутрикластерные расстояния: [3.93939266 3.48769685 3.48769685 3.48769685 3.41484125 3.06570367\n",
      " 3.66845665 3.66845665 3.48769685]\n"
     ]
    }
   ],
   "source": [
    "cl_indexes=[]\n",
    "dists=np.array([])\n",
    "for cl in np.unique(np.array(clustering.labels_)):\n",
    "    cl_indexes.append(np.where(np.array(clustering.labels_)==cl)[0])\n",
    "for cl in cl_indexes:\n",
    "    ds=np.array([])\n",
    "    for i in range(cl.shape[0]):\n",
    "        for j in range(i+1, cl.shape[0]):\n",
    "            ds=np.append(ds,euclide(standartize_data(wine)[i],standartize_data(wine)[j]))\n",
    "    dists=np.append(dists, np.mean(ds))\n",
    "print('Средние внутрикластерные расстояния:', dists[1:])  "
   ]
  },
  {
   "cell_type": "code",
   "execution_count": 35,
   "id": "08a3bb86",
   "metadata": {},
   "outputs": [
    {
     "data": {
      "text/html": [
       "<div>\n",
       "<style scoped>\n",
       "    .dataframe tbody tr th:only-of-type {\n",
       "        vertical-align: middle;\n",
       "    }\n",
       "\n",
       "    .dataframe tbody tr th {\n",
       "        vertical-align: top;\n",
       "    }\n",
       "\n",
       "    .dataframe thead th {\n",
       "        text-align: right;\n",
       "    }\n",
       "</style>\n",
       "<table border=\"1\" class=\"dataframe\">\n",
       "  <thead>\n",
       "    <tr style=\"text-align: right;\">\n",
       "      <th></th>\n",
       "      <th>Outliers</th>\n",
       "      <th>Class 0</th>\n",
       "      <th>Class 1</th>\n",
       "      <th>Class 2</th>\n",
       "      <th>Class 3</th>\n",
       "      <th>Class 4</th>\n",
       "      <th>Class 5</th>\n",
       "      <th>Class 6</th>\n",
       "      <th>Class 7</th>\n",
       "      <th>Class 8</th>\n",
       "    </tr>\n",
       "  </thead>\n",
       "  <tbody>\n",
       "    <tr>\n",
       "      <th>Outliers</th>\n",
       "      <td>56</td>\n",
       "      <td>0</td>\n",
       "      <td>2</td>\n",
       "      <td>2</td>\n",
       "      <td>2</td>\n",
       "      <td>0</td>\n",
       "      <td>0</td>\n",
       "      <td>0</td>\n",
       "      <td>0</td>\n",
       "      <td>2</td>\n",
       "    </tr>\n",
       "    <tr>\n",
       "      <th>Class 0</th>\n",
       "      <td>0</td>\n",
       "      <td>78</td>\n",
       "      <td>0</td>\n",
       "      <td>0</td>\n",
       "      <td>0</td>\n",
       "      <td>0</td>\n",
       "      <td>0</td>\n",
       "      <td>0</td>\n",
       "      <td>0</td>\n",
       "      <td>0</td>\n",
       "    </tr>\n",
       "    <tr>\n",
       "      <th>Class 1</th>\n",
       "      <td>0</td>\n",
       "      <td>0</td>\n",
       "      <td>0</td>\n",
       "      <td>0</td>\n",
       "      <td>0</td>\n",
       "      <td>6</td>\n",
       "      <td>0</td>\n",
       "      <td>0</td>\n",
       "      <td>0</td>\n",
       "      <td>0</td>\n",
       "    </tr>\n",
       "    <tr>\n",
       "      <th>Class 2</th>\n",
       "      <td>0</td>\n",
       "      <td>0</td>\n",
       "      <td>0</td>\n",
       "      <td>0</td>\n",
       "      <td>0</td>\n",
       "      <td>0</td>\n",
       "      <td>20</td>\n",
       "      <td>0</td>\n",
       "      <td>0</td>\n",
       "      <td>0</td>\n",
       "    </tr>\n",
       "    <tr>\n",
       "      <th>Class 3</th>\n",
       "      <td>0</td>\n",
       "      <td>0</td>\n",
       "      <td>0</td>\n",
       "      <td>0</td>\n",
       "      <td>0</td>\n",
       "      <td>0</td>\n",
       "      <td>0</td>\n",
       "      <td>5</td>\n",
       "      <td>0</td>\n",
       "      <td>0</td>\n",
       "    </tr>\n",
       "    <tr>\n",
       "      <th>Class 4</th>\n",
       "      <td>0</td>\n",
       "      <td>0</td>\n",
       "      <td>0</td>\n",
       "      <td>0</td>\n",
       "      <td>0</td>\n",
       "      <td>0</td>\n",
       "      <td>0</td>\n",
       "      <td>0</td>\n",
       "      <td>5</td>\n",
       "      <td>0</td>\n",
       "    </tr>\n",
       "  </tbody>\n",
       "</table>\n",
       "</div>"
      ],
      "text/plain": [
       "          Outliers  Class 0  Class 1  Class 2  Class 3  Class 4  Class 5  \\\n",
       "Outliers        56        0        2        2        2        0        0   \n",
       "Class 0          0       78        0        0        0        0        0   \n",
       "Class 1          0        0        0        0        0        6        0   \n",
       "Class 2          0        0        0        0        0        0       20   \n",
       "Class 3          0        0        0        0        0        0        0   \n",
       "Class 4          0        0        0        0        0        0        0   \n",
       "\n",
       "          Class 6  Class 7  Class 8  \n",
       "Outliers        0        0        2  \n",
       "Class 0         0        0        0  \n",
       "Class 1         0        0        0  \n",
       "Class 2         0        0        0  \n",
       "Class 3         5        0        0  \n",
       "Class 4         0        5        0  "
      ]
     },
     "execution_count": 35,
     "metadata": {},
     "output_type": "execute_result"
    }
   ],
   "source": [
    "p=pd.crosstab(index = np.array(a), columns = clustering.labels_)\n",
    "p.index = ['Outliers', 'Class 0', 'Class 1','Class 2','Class 3','Class 4']\n",
    "p.columns = ['Outliers', 'Class 0', 'Class 1','Class 2','Class 3','Class 4','Class 5','Class 6','Class 7','Class 8']\n",
    "p"
   ]
  },
  {
   "cell_type": "markdown",
   "id": "b18885fa",
   "metadata": {},
   "source": [
    "Большинство кластеров совпало друг с другом, однако в эталонной реализации было выделено 6 небольших кластеров, помеченных в написанной реализации выбросами, что сказалось на остальных метриках"
   ]
  },
  {
   "cell_type": "markdown",
   "id": "0ac91288",
   "metadata": {},
   "source": [
    "## Применение DBSCAN для 2 датасета"
   ]
  },
  {
   "cell_type": "code",
   "execution_count": 81,
   "id": "67182da0",
   "metadata": {},
   "outputs": [],
   "source": [
    "db2=DBSCAN_clusterer()"
   ]
  },
  {
   "cell_type": "code",
   "execution_count": 82,
   "id": "f97556f3",
   "metadata": {},
   "outputs": [],
   "source": [
    "start = time.time()\n",
    "res=db2.fit_predict(custs, 0.9, 2)\n",
    "end = time.time()"
   ]
  },
  {
   "cell_type": "code",
   "execution_count": 83,
   "id": "2c24d39f",
   "metadata": {},
   "outputs": [
    {
     "name": "stdout",
     "output_type": "stream",
     "text": [
      "Время выполнения программы: 2191.072463989258 ms\n"
     ]
    }
   ],
   "source": [
    "print(\"Время выполнения программы:\",\n",
    "      (end-start) * 10**3, \"ms\")"
   ]
  },
  {
   "cell_type": "code",
   "execution_count": 84,
   "id": "377efaea",
   "metadata": {},
   "outputs": [
    {
     "name": "stdout",
     "output_type": "stream",
     "text": [
      "Среднее межкластерное расстояние: 5.372665981603479\n"
     ]
    },
    {
     "ename": "KeyboardInterrupt",
     "evalue": "",
     "output_type": "error",
     "traceback": [
      "\u001b[1;31m---------------------------------------------------------------------------\u001b[0m",
      "\u001b[1;31mKeyboardInterrupt\u001b[0m                         Traceback (most recent call last)",
      "Cell \u001b[1;32mIn[84], line 2\u001b[0m\n\u001b[0;32m      1\u001b[0m \u001b[38;5;28mprint\u001b[39m(\u001b[38;5;124m'\u001b[39m\u001b[38;5;124mСреднее межкластерное расстояние:\u001b[39m\u001b[38;5;124m'\u001b[39m, db2\u001b[38;5;241m.\u001b[39maverage_between_clusters(custs))\n\u001b[1;32m----> 2\u001b[0m \u001b[38;5;28mprint\u001b[39m(\u001b[38;5;124m'\u001b[39m\u001b[38;5;124mСредние внутрикластерные расстояния:\u001b[39m\u001b[38;5;124m'\u001b[39m,\u001b[43mdb2\u001b[49m\u001b[38;5;241;43m.\u001b[39;49m\u001b[43maverage_inside_clusters\u001b[49m\u001b[43m(\u001b[49m\u001b[43mcusts\u001b[49m\u001b[43m)\u001b[49m)\n",
      "Cell \u001b[1;32mIn[23], line 66\u001b[0m, in \u001b[0;36mDBSCAN_clusterer.average_inside_clusters\u001b[1;34m(self, data)\u001b[0m\n\u001b[0;32m     64\u001b[0m     \u001b[38;5;28;01mfor\u001b[39;00m i \u001b[38;5;129;01min\u001b[39;00m \u001b[38;5;28mrange\u001b[39m(cl\u001b[38;5;241m.\u001b[39mshape[\u001b[38;5;241m0\u001b[39m]):\n\u001b[0;32m     65\u001b[0m         \u001b[38;5;28;01mfor\u001b[39;00m j \u001b[38;5;129;01min\u001b[39;00m \u001b[38;5;28mrange\u001b[39m(i\u001b[38;5;241m+\u001b[39m\u001b[38;5;241m1\u001b[39m, cl\u001b[38;5;241m.\u001b[39mshape[\u001b[38;5;241m0\u001b[39m]):\n\u001b[1;32m---> 66\u001b[0m             ds\u001b[38;5;241m=\u001b[39m\u001b[43mnp\u001b[49m\u001b[38;5;241;43m.\u001b[39;49m\u001b[43mappend\u001b[49m\u001b[43m(\u001b[49m\u001b[43mds\u001b[49m\u001b[43m,\u001b[49m\u001b[43meuclide\u001b[49m\u001b[43m(\u001b[49m\u001b[43mstandartize_data\u001b[49m\u001b[43m(\u001b[49m\u001b[43mdata\u001b[49m\u001b[43m)\u001b[49m\u001b[43m[\u001b[49m\u001b[43mi\u001b[49m\u001b[43m]\u001b[49m\u001b[43m,\u001b[49m\u001b[43mstandartize_data\u001b[49m\u001b[43m(\u001b[49m\u001b[43mdata\u001b[49m\u001b[43m)\u001b[49m\u001b[43m[\u001b[49m\u001b[43mj\u001b[49m\u001b[43m]\u001b[49m\u001b[43m)\u001b[49m\u001b[43m)\u001b[49m\n\u001b[0;32m     67\u001b[0m     dists\u001b[38;5;241m=\u001b[39mnp\u001b[38;5;241m.\u001b[39mappend(dists, np\u001b[38;5;241m.\u001b[39mmean(ds))\n\u001b[0;32m     68\u001b[0m \u001b[38;5;28;01mreturn\u001b[39;00m dists[\u001b[38;5;241m1\u001b[39m:]\n",
      "File \u001b[1;32m<__array_function__ internals>:180\u001b[0m, in \u001b[0;36mappend\u001b[1;34m(*args, **kwargs)\u001b[0m\n",
      "File \u001b[1;32m~\\anaconda3\\lib\\site-packages\\numpy\\lib\\function_base.py:5444\u001b[0m, in \u001b[0;36mappend\u001b[1;34m(arr, values, axis)\u001b[0m\n\u001b[0;32m   5442\u001b[0m     values \u001b[38;5;241m=\u001b[39m ravel(values)\n\u001b[0;32m   5443\u001b[0m     axis \u001b[38;5;241m=\u001b[39m arr\u001b[38;5;241m.\u001b[39mndim\u001b[38;5;241m-\u001b[39m\u001b[38;5;241m1\u001b[39m\n\u001b[1;32m-> 5444\u001b[0m \u001b[38;5;28;01mreturn\u001b[39;00m \u001b[43mconcatenate\u001b[49m\u001b[43m(\u001b[49m\u001b[43m(\u001b[49m\u001b[43marr\u001b[49m\u001b[43m,\u001b[49m\u001b[43m \u001b[49m\u001b[43mvalues\u001b[49m\u001b[43m)\u001b[49m\u001b[43m,\u001b[49m\u001b[43m \u001b[49m\u001b[43maxis\u001b[49m\u001b[38;5;241;43m=\u001b[39;49m\u001b[43maxis\u001b[49m\u001b[43m)\u001b[49m\n",
      "File \u001b[1;32m<__array_function__ internals>:180\u001b[0m, in \u001b[0;36mconcatenate\u001b[1;34m(*args, **kwargs)\u001b[0m\n",
      "\u001b[1;31mKeyboardInterrupt\u001b[0m: "
     ]
    }
   ],
   "source": [
    "print('Среднее межкластерное расстояние:', db2.average_between_clusters(custs))\n",
    "print('Средние внутрикластерные расстояния:',db2.average_inside_clusters(custs))"
   ]
  },
  {
   "cell_type": "markdown",
   "id": "413fdeed",
   "metadata": {},
   "source": [
    "Сравнение с эталонной реализацией"
   ]
  },
  {
   "cell_type": "code",
   "execution_count": 85,
   "id": "ced55ae7",
   "metadata": {},
   "outputs": [],
   "source": [
    "X = standartize_data(custs)"
   ]
  },
  {
   "cell_type": "code",
   "execution_count": 86,
   "id": "aeeaaf2d",
   "metadata": {},
   "outputs": [],
   "source": [
    "start = time.time()\n",
    "clustering = DBSCAN(eps=0.9, min_samples=2).fit(X)\n",
    "end = time.time()"
   ]
  },
  {
   "cell_type": "code",
   "execution_count": 87,
   "id": "94097f44",
   "metadata": {},
   "outputs": [
    {
     "name": "stdout",
     "output_type": "stream",
     "text": [
      "Время выполнения программы: 11.030912399291992 ms\n"
     ]
    }
   ],
   "source": [
    "print(\"Время выполнения программы:\",\n",
    "      (end-start) * 10**3, \"ms\")"
   ]
  },
  {
   "cell_type": "code",
   "execution_count": 92,
   "id": "710470bd",
   "metadata": {},
   "outputs": [
    {
     "data": {
      "text/html": [
       "<div>\n",
       "<style scoped>\n",
       "    .dataframe tbody tr th:only-of-type {\n",
       "        vertical-align: middle;\n",
       "    }\n",
       "\n",
       "    .dataframe tbody tr th {\n",
       "        vertical-align: top;\n",
       "    }\n",
       "\n",
       "    .dataframe thead th {\n",
       "        text-align: right;\n",
       "    }\n",
       "</style>\n",
       "<table border=\"1\" class=\"dataframe\">\n",
       "  <thead>\n",
       "    <tr style=\"text-align: right;\">\n",
       "      <th></th>\n",
       "      <th>Outliers</th>\n",
       "      <th>Class 0</th>\n",
       "      <th>Class 1</th>\n",
       "      <th>Class 2</th>\n",
       "      <th>Class 3</th>\n",
       "      <th>Class 4</th>\n",
       "    </tr>\n",
       "  </thead>\n",
       "  <tbody>\n",
       "    <tr>\n",
       "      <th>Outliers</th>\n",
       "      <td>7</td>\n",
       "      <td>0</td>\n",
       "      <td>0</td>\n",
       "      <td>0</td>\n",
       "      <td>0</td>\n",
       "      <td>0</td>\n",
       "    </tr>\n",
       "    <tr>\n",
       "      <th>Class 0</th>\n",
       "      <td>0</td>\n",
       "      <td>608</td>\n",
       "      <td>0</td>\n",
       "      <td>0</td>\n",
       "      <td>0</td>\n",
       "      <td>0</td>\n",
       "    </tr>\n",
       "    <tr>\n",
       "      <th>Class 1</th>\n",
       "      <td>0</td>\n",
       "      <td>0</td>\n",
       "      <td>3</td>\n",
       "      <td>0</td>\n",
       "      <td>0</td>\n",
       "      <td>0</td>\n",
       "    </tr>\n",
       "    <tr>\n",
       "      <th>Class 2</th>\n",
       "      <td>0</td>\n",
       "      <td>0</td>\n",
       "      <td>0</td>\n",
       "      <td>26</td>\n",
       "      <td>0</td>\n",
       "      <td>0</td>\n",
       "    </tr>\n",
       "    <tr>\n",
       "      <th>Class 3</th>\n",
       "      <td>0</td>\n",
       "      <td>0</td>\n",
       "      <td>0</td>\n",
       "      <td>0</td>\n",
       "      <td>12</td>\n",
       "      <td>0</td>\n",
       "    </tr>\n",
       "    <tr>\n",
       "      <th>Class 4</th>\n",
       "      <td>0</td>\n",
       "      <td>0</td>\n",
       "      <td>0</td>\n",
       "      <td>0</td>\n",
       "      <td>0</td>\n",
       "      <td>4</td>\n",
       "    </tr>\n",
       "  </tbody>\n",
       "</table>\n",
       "</div>"
      ],
      "text/plain": [
       "          Outliers  Class 0  Class 1  Class 2  Class 3  Class 4\n",
       "Outliers         7        0        0        0        0        0\n",
       "Class 0          0      608        0        0        0        0\n",
       "Class 1          0        0        3        0        0        0\n",
       "Class 2          0        0        0       26        0        0\n",
       "Class 3          0        0        0        0       12        0\n",
       "Class 4          0        0        0        0        0        4"
      ]
     },
     "execution_count": 92,
     "metadata": {},
     "output_type": "execute_result"
    }
   ],
   "source": [
    "p=pd.crosstab(index = np.array(res), columns = clustering.labels_)\n",
    "p.index = ['Outliers', 'Class 0', 'Class 1','Class 2','Class 3','Class 4']\n",
    "p.columns = ['Outliers', 'Class 0', 'Class 1','Class 2','Class 3','Class 4']\n",
    "p"
   ]
  },
  {
   "cell_type": "markdown",
   "id": "9efada51",
   "metadata": {},
   "source": [
    "В данном случае результаты полностью сошлись. Однако, данный датасет не подходит для кластеризации методом DBSCAN, поскольку один из кластеров сильно менее плотный, нежели другие, что играет важнейшую роль в этом случае. Поэтому кластеры получились крайне неравномерными. Время эталонной реализации снова сильно меньше, нежели написанной"
   ]
  }
 ],
 "metadata": {
  "kernelspec": {
   "display_name": "Python 3 (ipykernel)",
   "language": "python",
   "name": "python3"
  },
  "language_info": {
   "codemirror_mode": {
    "name": "ipython",
    "version": 3
   },
   "file_extension": ".py",
   "mimetype": "text/x-python",
   "name": "python",
   "nbconvert_exporter": "python",
   "pygments_lexer": "ipython3",
   "version": "3.12.4"
  }
 },
 "nbformat": 4,
 "nbformat_minor": 5
}
